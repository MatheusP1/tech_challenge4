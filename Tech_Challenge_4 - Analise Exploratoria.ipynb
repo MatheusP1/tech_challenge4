{
  "nbformat": 4,
  "nbformat_minor": 0,
  "metadata": {
    "colab": {
      "provenance": []
    },
    "kernelspec": {
      "name": "python3",
      "display_name": "Python 3"
    },
    "language_info": {
      "name": "python"
    }
  },
  "cells": [
    {
      "cell_type": "markdown",
      "source": [
        "# Tech Challenge FIAP - Fase 4 - Francisco Costa Carneiro e Matheus ..."
      ],
      "metadata": {
        "id": "AsuiLAMdfsQ_"
      }
    },
    {
      "cell_type": "markdown",
      "source": [
        "## 1. Entendimento do problema de negócio"
      ],
      "metadata": {
        "id": "w37raCyoglvu"
      }
    },
    {
      "cell_type": "markdown",
      "source": [
        "Vocé foi contratado(a) para uma consultoria, e seu trabalho envolve analisar os dados de preço do petróleo brent, que pode ser encontrado no site do ipea. Essa base de dados historica envolve duas colunas: data e preço (em dólares).\n",
        "Um grande cliente do segmento pediu para que a consultoria desenvolvesse um dashboard interativo e que gere insights relevantes para tomada de decisão. Além disso, solicitaram que fosse desenvolvido um modelo de Machine Learning para fazer o forecasting do preço do petróleo.\n",
        "\n",
        "Assim, o seu objetivo é:\n",
        "\n",
        "1) Criar um dashboard interativo com ferramentas à sua escolha;<br><br>\n",
        "2) Seu dashboard deve fazer parte de um storytelling que traga insights relevantes sobre a variacão do preco do petróleo, como situaõçes geopolíticas, crises econômicas, demanda global por energia e etc. Isso pode te ajudar com seu modelo - É obrigatörio que vocé traga pelo menos 4 insights neste desafio;<br><br>\n",
        "3) Criar um modelo de Machine Learning que faca a previsão do preço do petróleo diariamente (lembre-se de time series). Esse modelo deve estar contemplado em seu storytelling e deve conter o código que vocé trabalhou, analisando as performances do modelo;<br><br>\n",
        "4) Criar um plano para fazer o deploy em producäo do modelo, com as ferramentas que são necessárias; e<br><br>\n",
        "5) Faca um MVP do seu modelo em producão utilizando o Streamlit."
      ],
      "metadata": {
        "id": "GE_BARY7gqqp"
      }
    },
    {
      "cell_type": "markdown",
      "source": [
        "## 2. Data Pré-processing"
      ],
      "metadata": {
        "id": "8qNejUhmoAIY"
      }
    },
    {
      "cell_type": "markdown",
      "source": [
        "### 2.1. Load & Describe Data"
      ],
      "metadata": {
        "id": "9Q1yuWYXrOlA"
      }
    },
    {
      "cell_type": "markdown",
      "source": [
        "#### 2.1.1. Requerimentos"
      ],
      "metadata": {
        "id": "h2B800__sZrC"
      }
    },
    {
      "cell_type": "code",
      "source": [
        "import pandas as pd\n",
        "import requests\n",
        "from bs4 import BeautifulSoup\n",
        "import csv\n",
        "import matplotlib.pyplot as plt\n",
        "%matplotlib inline\n",
        "import seaborn as sns\n",
        "import numpy as np\n",
        "import locale\n",
        "import plotly.graph_objects as go\n",
        "import joblib\n",
        "\n",
        "from datetime import datetime\n",
        "from scipy.stats import trim_mean\n",
        "from statsmodels.tsa.seasonal import seasonal_decompose\n",
        "from statsmodels.tsa.stattools import acf, pacf\n",
        "from statsmodels.tsa.stattools import adfuller\n",
        "from statsmodels.graphics.tsaplots import plot_acf, plot_pacf\n",
        "\n",
        "# Prophet\n",
        "from prophet import Prophet\n",
        "\n",
        "# Para deep learning\n",
        "from keras.models import Sequential\n",
        "from keras.layers import LSTM,Dense,Dropout\n",
        "from tensorflow.keras.optimizers import Adam\n",
        "from keras.models import load_model\n",
        "from keras.preprocessing.sequence import TimeseriesGenerator\n",
        "\n",
        "# Para machine learning\n",
        "from sklearn.preprocessing import MinMaxScaler\n",
        "from sklearn.metrics import mean_squared_error\n",
        "from sklearn.model_selection import train_test_split"
      ],
      "metadata": {
        "id": "yN0KgE9lH927"
      },
      "execution_count": 1,
      "outputs": []
    },
    {
      "cell_type": "markdown",
      "source": [
        "#### 2.1.2. Import file"
      ],
      "metadata": {
        "id": "aknI3x9zseG5"
      }
    },
    {
      "cell_type": "markdown",
      "source": [
        "Realizamos um webscraping para buscarmos as informações tabulares do site imaginando que, caso tenhamos a necessidade de tornar essa busca atualizada diariamente poderemos apenas gerar automaticamente essa busca."
      ],
      "metadata": {
        "id": "XslwsDkFKa8w"
      }
    },
    {
      "cell_type": "markdown",
      "source": [
        "Webscraping com a biblioteca BeautifulSoup"
      ],
      "metadata": {
        "id": "id8s0iswMtkn"
      }
    },
    {
      "cell_type": "code",
      "source": [
        "# URL do site Ipeadata\n",
        "url = \"http://www.ipeadata.gov.br/ExibeSerie.aspx?module=m&serid=1650971490&oper=view\"\n",
        "\n",
        "# Fazendo a requisição para o site\n",
        "response = requests.get(url)\n",
        "soup = BeautifulSoup(response.text, 'html.parser')\n",
        "\n",
        "# Encontrando os dados na página\n",
        "dados = []\n",
        "tabela = soup.find('table', {'id': 'grd_DXMainTable'})  # Identificando a tabela correta pelo ID\n",
        "if tabela:\n",
        "    for linha in tabela.find_all('tr'):\n",
        "        colunas = linha.find_all('td')\n",
        "        if len(colunas) == 2:  # Verificando se temos exatamente 2 colunas\n",
        "            data = colunas[0].text.strip()\n",
        "            preco = colunas[1].text.strip().replace(',', '.')\n",
        "            dados.append([data, preco])\n",
        "\n",
        "# Salvando os dados em um arquivo CSV\n",
        "with open('preco_petroleo_brent_atualizado.csv', 'w', newline='', encoding='utf-8') as file:\n",
        "    writer = csv.writer(file)\n",
        "    writer.writerow(['Data', 'Preço'])\n",
        "    writer.writerows(dados)\n",
        "\n",
        "print(\"Dados salvos com sucesso no arquivo 'preco_petroleo_brent_atualizado.csv'\")\n"
      ],
      "metadata": {
        "colab": {
          "base_uri": "https://localhost:8080/"
        },
        "id": "Yr7kNXsmLTH5",
        "outputId": "670964cb-9a0c-4922-dfa5-380c2408644d"
      },
      "execution_count": 3,
      "outputs": [
        {
          "output_type": "stream",
          "name": "stdout",
          "text": [
            "Dados salvos com sucesso no arquivo 'preco_petroleo_brent_atualizado.csv'\n"
          ]
        }
      ]
    },
    {
      "cell_type": "code",
      "source": [
        "brent = pd.read_csv('preco_petroleo_brent_atualizado.csv')\n",
        "brent.head()"
      ],
      "metadata": {
        "colab": {
          "base_uri": "https://localhost:8080/",
          "height": 206
        },
        "id": "-zER33oEMxCq",
        "outputId": "32cdcd5f-b8cc-4f52-bb4a-5e96925389a3"
      },
      "execution_count": 4,
      "outputs": [
        {
          "output_type": "execute_result",
          "data": {
            "text/plain": [
              "                                   Data  Preço\n",
              "0                                  Data    NaN\n",
              "1  Preço - petróleo bruto - Brent (FOB)    NaN\n",
              "2                            22/01/2024  81.70\n",
              "3                            19/01/2024  80.71\n",
              "4                            18/01/2024  81.04"
            ],
            "text/html": [
              "\n",
              "  <div id=\"df-4e5d36de-a02e-4d58-90e7-f7ead5639059\" class=\"colab-df-container\">\n",
              "    <div>\n",
              "<style scoped>\n",
              "    .dataframe tbody tr th:only-of-type {\n",
              "        vertical-align: middle;\n",
              "    }\n",
              "\n",
              "    .dataframe tbody tr th {\n",
              "        vertical-align: top;\n",
              "    }\n",
              "\n",
              "    .dataframe thead th {\n",
              "        text-align: right;\n",
              "    }\n",
              "</style>\n",
              "<table border=\"1\" class=\"dataframe\">\n",
              "  <thead>\n",
              "    <tr style=\"text-align: right;\">\n",
              "      <th></th>\n",
              "      <th>Data</th>\n",
              "      <th>Preço</th>\n",
              "    </tr>\n",
              "  </thead>\n",
              "  <tbody>\n",
              "    <tr>\n",
              "      <th>0</th>\n",
              "      <td>Data</td>\n",
              "      <td>NaN</td>\n",
              "    </tr>\n",
              "    <tr>\n",
              "      <th>1</th>\n",
              "      <td>Preço - petróleo bruto - Brent (FOB)</td>\n",
              "      <td>NaN</td>\n",
              "    </tr>\n",
              "    <tr>\n",
              "      <th>2</th>\n",
              "      <td>22/01/2024</td>\n",
              "      <td>81.70</td>\n",
              "    </tr>\n",
              "    <tr>\n",
              "      <th>3</th>\n",
              "      <td>19/01/2024</td>\n",
              "      <td>80.71</td>\n",
              "    </tr>\n",
              "    <tr>\n",
              "      <th>4</th>\n",
              "      <td>18/01/2024</td>\n",
              "      <td>81.04</td>\n",
              "    </tr>\n",
              "  </tbody>\n",
              "</table>\n",
              "</div>\n",
              "    <div class=\"colab-df-buttons\">\n",
              "\n",
              "  <div class=\"colab-df-container\">\n",
              "    <button class=\"colab-df-convert\" onclick=\"convertToInteractive('df-4e5d36de-a02e-4d58-90e7-f7ead5639059')\"\n",
              "            title=\"Convert this dataframe to an interactive table.\"\n",
              "            style=\"display:none;\">\n",
              "\n",
              "  <svg xmlns=\"http://www.w3.org/2000/svg\" height=\"24px\" viewBox=\"0 -960 960 960\">\n",
              "    <path d=\"M120-120v-720h720v720H120Zm60-500h600v-160H180v160Zm220 220h160v-160H400v160Zm0 220h160v-160H400v160ZM180-400h160v-160H180v160Zm440 0h160v-160H620v160ZM180-180h160v-160H180v160Zm440 0h160v-160H620v160Z\"/>\n",
              "  </svg>\n",
              "    </button>\n",
              "\n",
              "  <style>\n",
              "    .colab-df-container {\n",
              "      display:flex;\n",
              "      gap: 12px;\n",
              "    }\n",
              "\n",
              "    .colab-df-convert {\n",
              "      background-color: #E8F0FE;\n",
              "      border: none;\n",
              "      border-radius: 50%;\n",
              "      cursor: pointer;\n",
              "      display: none;\n",
              "      fill: #1967D2;\n",
              "      height: 32px;\n",
              "      padding: 0 0 0 0;\n",
              "      width: 32px;\n",
              "    }\n",
              "\n",
              "    .colab-df-convert:hover {\n",
              "      background-color: #E2EBFA;\n",
              "      box-shadow: 0px 1px 2px rgba(60, 64, 67, 0.3), 0px 1px 3px 1px rgba(60, 64, 67, 0.15);\n",
              "      fill: #174EA6;\n",
              "    }\n",
              "\n",
              "    .colab-df-buttons div {\n",
              "      margin-bottom: 4px;\n",
              "    }\n",
              "\n",
              "    [theme=dark] .colab-df-convert {\n",
              "      background-color: #3B4455;\n",
              "      fill: #D2E3FC;\n",
              "    }\n",
              "\n",
              "    [theme=dark] .colab-df-convert:hover {\n",
              "      background-color: #434B5C;\n",
              "      box-shadow: 0px 1px 3px 1px rgba(0, 0, 0, 0.15);\n",
              "      filter: drop-shadow(0px 1px 2px rgba(0, 0, 0, 0.3));\n",
              "      fill: #FFFFFF;\n",
              "    }\n",
              "  </style>\n",
              "\n",
              "    <script>\n",
              "      const buttonEl =\n",
              "        document.querySelector('#df-4e5d36de-a02e-4d58-90e7-f7ead5639059 button.colab-df-convert');\n",
              "      buttonEl.style.display =\n",
              "        google.colab.kernel.accessAllowed ? 'block' : 'none';\n",
              "\n",
              "      async function convertToInteractive(key) {\n",
              "        const element = document.querySelector('#df-4e5d36de-a02e-4d58-90e7-f7ead5639059');\n",
              "        const dataTable =\n",
              "          await google.colab.kernel.invokeFunction('convertToInteractive',\n",
              "                                                    [key], {});\n",
              "        if (!dataTable) return;\n",
              "\n",
              "        const docLinkHtml = 'Like what you see? Visit the ' +\n",
              "          '<a target=\"_blank\" href=https://colab.research.google.com/notebooks/data_table.ipynb>data table notebook</a>'\n",
              "          + ' to learn more about interactive tables.';\n",
              "        element.innerHTML = '';\n",
              "        dataTable['output_type'] = 'display_data';\n",
              "        await google.colab.output.renderOutput(dataTable, element);\n",
              "        const docLink = document.createElement('div');\n",
              "        docLink.innerHTML = docLinkHtml;\n",
              "        element.appendChild(docLink);\n",
              "      }\n",
              "    </script>\n",
              "  </div>\n",
              "\n",
              "\n",
              "<div id=\"df-17912f66-778a-44b4-ba52-7726a5ae0db7\">\n",
              "  <button class=\"colab-df-quickchart\" onclick=\"quickchart('df-17912f66-778a-44b4-ba52-7726a5ae0db7')\"\n",
              "            title=\"Suggest charts\"\n",
              "            style=\"display:none;\">\n",
              "\n",
              "<svg xmlns=\"http://www.w3.org/2000/svg\" height=\"24px\"viewBox=\"0 0 24 24\"\n",
              "     width=\"24px\">\n",
              "    <g>\n",
              "        <path d=\"M19 3H5c-1.1 0-2 .9-2 2v14c0 1.1.9 2 2 2h14c1.1 0 2-.9 2-2V5c0-1.1-.9-2-2-2zM9 17H7v-7h2v7zm4 0h-2V7h2v10zm4 0h-2v-4h2v4z\"/>\n",
              "    </g>\n",
              "</svg>\n",
              "  </button>\n",
              "\n",
              "<style>\n",
              "  .colab-df-quickchart {\n",
              "      --bg-color: #E8F0FE;\n",
              "      --fill-color: #1967D2;\n",
              "      --hover-bg-color: #E2EBFA;\n",
              "      --hover-fill-color: #174EA6;\n",
              "      --disabled-fill-color: #AAA;\n",
              "      --disabled-bg-color: #DDD;\n",
              "  }\n",
              "\n",
              "  [theme=dark] .colab-df-quickchart {\n",
              "      --bg-color: #3B4455;\n",
              "      --fill-color: #D2E3FC;\n",
              "      --hover-bg-color: #434B5C;\n",
              "      --hover-fill-color: #FFFFFF;\n",
              "      --disabled-bg-color: #3B4455;\n",
              "      --disabled-fill-color: #666;\n",
              "  }\n",
              "\n",
              "  .colab-df-quickchart {\n",
              "    background-color: var(--bg-color);\n",
              "    border: none;\n",
              "    border-radius: 50%;\n",
              "    cursor: pointer;\n",
              "    display: none;\n",
              "    fill: var(--fill-color);\n",
              "    height: 32px;\n",
              "    padding: 0;\n",
              "    width: 32px;\n",
              "  }\n",
              "\n",
              "  .colab-df-quickchart:hover {\n",
              "    background-color: var(--hover-bg-color);\n",
              "    box-shadow: 0 1px 2px rgba(60, 64, 67, 0.3), 0 1px 3px 1px rgba(60, 64, 67, 0.15);\n",
              "    fill: var(--button-hover-fill-color);\n",
              "  }\n",
              "\n",
              "  .colab-df-quickchart-complete:disabled,\n",
              "  .colab-df-quickchart-complete:disabled:hover {\n",
              "    background-color: var(--disabled-bg-color);\n",
              "    fill: var(--disabled-fill-color);\n",
              "    box-shadow: none;\n",
              "  }\n",
              "\n",
              "  .colab-df-spinner {\n",
              "    border: 2px solid var(--fill-color);\n",
              "    border-color: transparent;\n",
              "    border-bottom-color: var(--fill-color);\n",
              "    animation:\n",
              "      spin 1s steps(1) infinite;\n",
              "  }\n",
              "\n",
              "  @keyframes spin {\n",
              "    0% {\n",
              "      border-color: transparent;\n",
              "      border-bottom-color: var(--fill-color);\n",
              "      border-left-color: var(--fill-color);\n",
              "    }\n",
              "    20% {\n",
              "      border-color: transparent;\n",
              "      border-left-color: var(--fill-color);\n",
              "      border-top-color: var(--fill-color);\n",
              "    }\n",
              "    30% {\n",
              "      border-color: transparent;\n",
              "      border-left-color: var(--fill-color);\n",
              "      border-top-color: var(--fill-color);\n",
              "      border-right-color: var(--fill-color);\n",
              "    }\n",
              "    40% {\n",
              "      border-color: transparent;\n",
              "      border-right-color: var(--fill-color);\n",
              "      border-top-color: var(--fill-color);\n",
              "    }\n",
              "    60% {\n",
              "      border-color: transparent;\n",
              "      border-right-color: var(--fill-color);\n",
              "    }\n",
              "    80% {\n",
              "      border-color: transparent;\n",
              "      border-right-color: var(--fill-color);\n",
              "      border-bottom-color: var(--fill-color);\n",
              "    }\n",
              "    90% {\n",
              "      border-color: transparent;\n",
              "      border-bottom-color: var(--fill-color);\n",
              "    }\n",
              "  }\n",
              "</style>\n",
              "\n",
              "  <script>\n",
              "    async function quickchart(key) {\n",
              "      const quickchartButtonEl =\n",
              "        document.querySelector('#' + key + ' button');\n",
              "      quickchartButtonEl.disabled = true;  // To prevent multiple clicks.\n",
              "      quickchartButtonEl.classList.add('colab-df-spinner');\n",
              "      try {\n",
              "        const charts = await google.colab.kernel.invokeFunction(\n",
              "            'suggestCharts', [key], {});\n",
              "      } catch (error) {\n",
              "        console.error('Error during call to suggestCharts:', error);\n",
              "      }\n",
              "      quickchartButtonEl.classList.remove('colab-df-spinner');\n",
              "      quickchartButtonEl.classList.add('colab-df-quickchart-complete');\n",
              "    }\n",
              "    (() => {\n",
              "      let quickchartButtonEl =\n",
              "        document.querySelector('#df-17912f66-778a-44b4-ba52-7726a5ae0db7 button');\n",
              "      quickchartButtonEl.style.display =\n",
              "        google.colab.kernel.accessAllowed ? 'block' : 'none';\n",
              "    })();\n",
              "  </script>\n",
              "</div>\n",
              "\n",
              "    </div>\n",
              "  </div>\n"
            ]
          },
          "metadata": {},
          "execution_count": 4
        }
      ]
    },
    {
      "cell_type": "markdown",
      "source": [
        "#### 2.1.3. Analisando o shape do dataset"
      ],
      "metadata": {
        "id": "VeKD5Z9Jo8Ch"
      }
    },
    {
      "cell_type": "code",
      "source": [
        "print(f'- O dataset possui {brent.shape[0]} linhas')\n",
        "print(f'- O dataset possui {brent.shape[1]} colunas')"
      ],
      "metadata": {
        "colab": {
          "base_uri": "https://localhost:8080/"
        },
        "id": "e8DhcTabn29d",
        "outputId": "862bfaf0-dda3-41a6-9e31-bb522188cc7f"
      },
      "execution_count": 5,
      "outputs": [
        {
          "output_type": "stream",
          "name": "stdout",
          "text": [
            "- O dataset possui 11094 linhas\n",
            "- O dataset possui 2 colunas\n"
          ]
        }
      ]
    },
    {
      "cell_type": "markdown",
      "source": [
        "#### 2.1.4. Levantando a lista das colunas"
      ],
      "metadata": {
        "id": "LMhl0U7ZqRlt"
      }
    },
    {
      "cell_type": "code",
      "source": [
        "brent.columns"
      ],
      "metadata": {
        "colab": {
          "base_uri": "https://localhost:8080/"
        },
        "id": "hJB6UDSqqXFN",
        "outputId": "6edf5785-fe82-47f1-aab6-ca93513e291f"
      },
      "execution_count": 6,
      "outputs": [
        {
          "output_type": "execute_result",
          "data": {
            "text/plain": [
              "Index(['Data', 'Preço'], dtype='object')"
            ]
          },
          "metadata": {},
          "execution_count": 6
        }
      ]
    },
    {
      "cell_type": "markdown",
      "source": [
        "#### 2.1.5. Informações do dataset"
      ],
      "metadata": {
        "id": "WbfA4e5UrK0a"
      }
    },
    {
      "cell_type": "code",
      "source": [
        "brent.info()"
      ],
      "metadata": {
        "colab": {
          "base_uri": "https://localhost:8080/"
        },
        "id": "08Smg0JVpuuT",
        "outputId": "81c79fc7-0d3f-4b9c-c804-73122c35492e"
      },
      "execution_count": 7,
      "outputs": [
        {
          "output_type": "stream",
          "name": "stdout",
          "text": [
            "<class 'pandas.core.frame.DataFrame'>\n",
            "RangeIndex: 11094 entries, 0 to 11093\n",
            "Data columns (total 2 columns):\n",
            " #   Column  Non-Null Count  Dtype  \n",
            "---  ------  --------------  -----  \n",
            " 0   Data    11094 non-null  object \n",
            " 1   Preço   11092 non-null  float64\n",
            "dtypes: float64(1), object(1)\n",
            "memory usage: 173.5+ KB\n"
          ]
        }
      ]
    },
    {
      "cell_type": "markdown",
      "source": [
        "Baseado nessa análise primária vimos que:\n",
        "\n",
        "- o dataset possui 2 colunas e 11.080 linhas, mas como temos um dataframe que possui 2 colunas de \"Data\" e \"Preço\" e essas linhas do tipo float têm duas linhas a menos, consideramos que existem 2 linhas que não devem fazer parte do nosso df. Avaliando as primeiras 5 linhas vemos que foram inseridos os cabeçalhos de forma duplicada e 1 linha também com valores nulos. Iremos realizar o tratamento adequado na próxima sessão."
      ],
      "metadata": {
        "id": "LmAMD095rjn_"
      }
    },
    {
      "cell_type": "markdown",
      "source": [
        "### 2.2. Data Cleansing & Feature Engineering"
      ],
      "metadata": {
        "id": "RBVFipoAtXNB"
      }
    },
    {
      "cell_type": "markdown",
      "source": [
        "#### 2.2.1. Modificando os tipos dos dados"
      ],
      "metadata": {
        "id": "oWMtDhB8tAtq"
      }
    },
    {
      "cell_type": "markdown",
      "source": [
        "Como vimos anteriormente a coluna de data é do tipo float e, portanto, devemos alterar para o tipo data. Para que a conversão fosse realizada excluímos as duas primeiras linhas que apresentavam valores nulos."
      ],
      "metadata": {
        "id": "v74ce3XqRFLB"
      }
    },
    {
      "cell_type": "code",
      "source": [
        "petroleo_data_limpo = brent.drop([0, 1], axis=0)\n",
        "petroleo_data_limpo['Data'] = pd.to_datetime(petroleo_data_limpo['Data'], format='%d/%m/%Y')\n",
        "petroleo_data_limpo.head()"
      ],
      "metadata": {
        "colab": {
          "base_uri": "https://localhost:8080/",
          "height": 206
        },
        "id": "bsqI-3ybtFLS",
        "outputId": "6465a19c-3ad9-41e6-c9aa-4567f7e9f50b"
      },
      "execution_count": 8,
      "outputs": [
        {
          "output_type": "execute_result",
          "data": {
            "text/plain": [
              "        Data  Preço\n",
              "2 2024-01-22  81.70\n",
              "3 2024-01-19  80.71\n",
              "4 2024-01-18  81.04\n",
              "5 2024-01-17  78.88\n",
              "6 2024-01-16  80.15"
            ],
            "text/html": [
              "\n",
              "  <div id=\"df-9d78b7b8-2f12-491a-8967-9c2093c7f1f2\" class=\"colab-df-container\">\n",
              "    <div>\n",
              "<style scoped>\n",
              "    .dataframe tbody tr th:only-of-type {\n",
              "        vertical-align: middle;\n",
              "    }\n",
              "\n",
              "    .dataframe tbody tr th {\n",
              "        vertical-align: top;\n",
              "    }\n",
              "\n",
              "    .dataframe thead th {\n",
              "        text-align: right;\n",
              "    }\n",
              "</style>\n",
              "<table border=\"1\" class=\"dataframe\">\n",
              "  <thead>\n",
              "    <tr style=\"text-align: right;\">\n",
              "      <th></th>\n",
              "      <th>Data</th>\n",
              "      <th>Preço</th>\n",
              "    </tr>\n",
              "  </thead>\n",
              "  <tbody>\n",
              "    <tr>\n",
              "      <th>2</th>\n",
              "      <td>2024-01-22</td>\n",
              "      <td>81.70</td>\n",
              "    </tr>\n",
              "    <tr>\n",
              "      <th>3</th>\n",
              "      <td>2024-01-19</td>\n",
              "      <td>80.71</td>\n",
              "    </tr>\n",
              "    <tr>\n",
              "      <th>4</th>\n",
              "      <td>2024-01-18</td>\n",
              "      <td>81.04</td>\n",
              "    </tr>\n",
              "    <tr>\n",
              "      <th>5</th>\n",
              "      <td>2024-01-17</td>\n",
              "      <td>78.88</td>\n",
              "    </tr>\n",
              "    <tr>\n",
              "      <th>6</th>\n",
              "      <td>2024-01-16</td>\n",
              "      <td>80.15</td>\n",
              "    </tr>\n",
              "  </tbody>\n",
              "</table>\n",
              "</div>\n",
              "    <div class=\"colab-df-buttons\">\n",
              "\n",
              "  <div class=\"colab-df-container\">\n",
              "    <button class=\"colab-df-convert\" onclick=\"convertToInteractive('df-9d78b7b8-2f12-491a-8967-9c2093c7f1f2')\"\n",
              "            title=\"Convert this dataframe to an interactive table.\"\n",
              "            style=\"display:none;\">\n",
              "\n",
              "  <svg xmlns=\"http://www.w3.org/2000/svg\" height=\"24px\" viewBox=\"0 -960 960 960\">\n",
              "    <path d=\"M120-120v-720h720v720H120Zm60-500h600v-160H180v160Zm220 220h160v-160H400v160Zm0 220h160v-160H400v160ZM180-400h160v-160H180v160Zm440 0h160v-160H620v160ZM180-180h160v-160H180v160Zm440 0h160v-160H620v160Z\"/>\n",
              "  </svg>\n",
              "    </button>\n",
              "\n",
              "  <style>\n",
              "    .colab-df-container {\n",
              "      display:flex;\n",
              "      gap: 12px;\n",
              "    }\n",
              "\n",
              "    .colab-df-convert {\n",
              "      background-color: #E8F0FE;\n",
              "      border: none;\n",
              "      border-radius: 50%;\n",
              "      cursor: pointer;\n",
              "      display: none;\n",
              "      fill: #1967D2;\n",
              "      height: 32px;\n",
              "      padding: 0 0 0 0;\n",
              "      width: 32px;\n",
              "    }\n",
              "\n",
              "    .colab-df-convert:hover {\n",
              "      background-color: #E2EBFA;\n",
              "      box-shadow: 0px 1px 2px rgba(60, 64, 67, 0.3), 0px 1px 3px 1px rgba(60, 64, 67, 0.15);\n",
              "      fill: #174EA6;\n",
              "    }\n",
              "\n",
              "    .colab-df-buttons div {\n",
              "      margin-bottom: 4px;\n",
              "    }\n",
              "\n",
              "    [theme=dark] .colab-df-convert {\n",
              "      background-color: #3B4455;\n",
              "      fill: #D2E3FC;\n",
              "    }\n",
              "\n",
              "    [theme=dark] .colab-df-convert:hover {\n",
              "      background-color: #434B5C;\n",
              "      box-shadow: 0px 1px 3px 1px rgba(0, 0, 0, 0.15);\n",
              "      filter: drop-shadow(0px 1px 2px rgba(0, 0, 0, 0.3));\n",
              "      fill: #FFFFFF;\n",
              "    }\n",
              "  </style>\n",
              "\n",
              "    <script>\n",
              "      const buttonEl =\n",
              "        document.querySelector('#df-9d78b7b8-2f12-491a-8967-9c2093c7f1f2 button.colab-df-convert');\n",
              "      buttonEl.style.display =\n",
              "        google.colab.kernel.accessAllowed ? 'block' : 'none';\n",
              "\n",
              "      async function convertToInteractive(key) {\n",
              "        const element = document.querySelector('#df-9d78b7b8-2f12-491a-8967-9c2093c7f1f2');\n",
              "        const dataTable =\n",
              "          await google.colab.kernel.invokeFunction('convertToInteractive',\n",
              "                                                    [key], {});\n",
              "        if (!dataTable) return;\n",
              "\n",
              "        const docLinkHtml = 'Like what you see? Visit the ' +\n",
              "          '<a target=\"_blank\" href=https://colab.research.google.com/notebooks/data_table.ipynb>data table notebook</a>'\n",
              "          + ' to learn more about interactive tables.';\n",
              "        element.innerHTML = '';\n",
              "        dataTable['output_type'] = 'display_data';\n",
              "        await google.colab.output.renderOutput(dataTable, element);\n",
              "        const docLink = document.createElement('div');\n",
              "        docLink.innerHTML = docLinkHtml;\n",
              "        element.appendChild(docLink);\n",
              "      }\n",
              "    </script>\n",
              "  </div>\n",
              "\n",
              "\n",
              "<div id=\"df-4a4a151a-c20e-45d0-b98c-809e0cd1d54f\">\n",
              "  <button class=\"colab-df-quickchart\" onclick=\"quickchart('df-4a4a151a-c20e-45d0-b98c-809e0cd1d54f')\"\n",
              "            title=\"Suggest charts\"\n",
              "            style=\"display:none;\">\n",
              "\n",
              "<svg xmlns=\"http://www.w3.org/2000/svg\" height=\"24px\"viewBox=\"0 0 24 24\"\n",
              "     width=\"24px\">\n",
              "    <g>\n",
              "        <path d=\"M19 3H5c-1.1 0-2 .9-2 2v14c0 1.1.9 2 2 2h14c1.1 0 2-.9 2-2V5c0-1.1-.9-2-2-2zM9 17H7v-7h2v7zm4 0h-2V7h2v10zm4 0h-2v-4h2v4z\"/>\n",
              "    </g>\n",
              "</svg>\n",
              "  </button>\n",
              "\n",
              "<style>\n",
              "  .colab-df-quickchart {\n",
              "      --bg-color: #E8F0FE;\n",
              "      --fill-color: #1967D2;\n",
              "      --hover-bg-color: #E2EBFA;\n",
              "      --hover-fill-color: #174EA6;\n",
              "      --disabled-fill-color: #AAA;\n",
              "      --disabled-bg-color: #DDD;\n",
              "  }\n",
              "\n",
              "  [theme=dark] .colab-df-quickchart {\n",
              "      --bg-color: #3B4455;\n",
              "      --fill-color: #D2E3FC;\n",
              "      --hover-bg-color: #434B5C;\n",
              "      --hover-fill-color: #FFFFFF;\n",
              "      --disabled-bg-color: #3B4455;\n",
              "      --disabled-fill-color: #666;\n",
              "  }\n",
              "\n",
              "  .colab-df-quickchart {\n",
              "    background-color: var(--bg-color);\n",
              "    border: none;\n",
              "    border-radius: 50%;\n",
              "    cursor: pointer;\n",
              "    display: none;\n",
              "    fill: var(--fill-color);\n",
              "    height: 32px;\n",
              "    padding: 0;\n",
              "    width: 32px;\n",
              "  }\n",
              "\n",
              "  .colab-df-quickchart:hover {\n",
              "    background-color: var(--hover-bg-color);\n",
              "    box-shadow: 0 1px 2px rgba(60, 64, 67, 0.3), 0 1px 3px 1px rgba(60, 64, 67, 0.15);\n",
              "    fill: var(--button-hover-fill-color);\n",
              "  }\n",
              "\n",
              "  .colab-df-quickchart-complete:disabled,\n",
              "  .colab-df-quickchart-complete:disabled:hover {\n",
              "    background-color: var(--disabled-bg-color);\n",
              "    fill: var(--disabled-fill-color);\n",
              "    box-shadow: none;\n",
              "  }\n",
              "\n",
              "  .colab-df-spinner {\n",
              "    border: 2px solid var(--fill-color);\n",
              "    border-color: transparent;\n",
              "    border-bottom-color: var(--fill-color);\n",
              "    animation:\n",
              "      spin 1s steps(1) infinite;\n",
              "  }\n",
              "\n",
              "  @keyframes spin {\n",
              "    0% {\n",
              "      border-color: transparent;\n",
              "      border-bottom-color: var(--fill-color);\n",
              "      border-left-color: var(--fill-color);\n",
              "    }\n",
              "    20% {\n",
              "      border-color: transparent;\n",
              "      border-left-color: var(--fill-color);\n",
              "      border-top-color: var(--fill-color);\n",
              "    }\n",
              "    30% {\n",
              "      border-color: transparent;\n",
              "      border-left-color: var(--fill-color);\n",
              "      border-top-color: var(--fill-color);\n",
              "      border-right-color: var(--fill-color);\n",
              "    }\n",
              "    40% {\n",
              "      border-color: transparent;\n",
              "      border-right-color: var(--fill-color);\n",
              "      border-top-color: var(--fill-color);\n",
              "    }\n",
              "    60% {\n",
              "      border-color: transparent;\n",
              "      border-right-color: var(--fill-color);\n",
              "    }\n",
              "    80% {\n",
              "      border-color: transparent;\n",
              "      border-right-color: var(--fill-color);\n",
              "      border-bottom-color: var(--fill-color);\n",
              "    }\n",
              "    90% {\n",
              "      border-color: transparent;\n",
              "      border-bottom-color: var(--fill-color);\n",
              "    }\n",
              "  }\n",
              "</style>\n",
              "\n",
              "  <script>\n",
              "    async function quickchart(key) {\n",
              "      const quickchartButtonEl =\n",
              "        document.querySelector('#' + key + ' button');\n",
              "      quickchartButtonEl.disabled = true;  // To prevent multiple clicks.\n",
              "      quickchartButtonEl.classList.add('colab-df-spinner');\n",
              "      try {\n",
              "        const charts = await google.colab.kernel.invokeFunction(\n",
              "            'suggestCharts', [key], {});\n",
              "      } catch (error) {\n",
              "        console.error('Error during call to suggestCharts:', error);\n",
              "      }\n",
              "      quickchartButtonEl.classList.remove('colab-df-spinner');\n",
              "      quickchartButtonEl.classList.add('colab-df-quickchart-complete');\n",
              "    }\n",
              "    (() => {\n",
              "      let quickchartButtonEl =\n",
              "        document.querySelector('#df-4a4a151a-c20e-45d0-b98c-809e0cd1d54f button');\n",
              "      quickchartButtonEl.style.display =\n",
              "        google.colab.kernel.accessAllowed ? 'block' : 'none';\n",
              "    })();\n",
              "  </script>\n",
              "</div>\n",
              "\n",
              "    </div>\n",
              "  </div>\n"
            ]
          },
          "metadata": {},
          "execution_count": 8
        }
      ]
    },
    {
      "cell_type": "code",
      "source": [
        "petroleo_data_limpo.dtypes"
      ],
      "metadata": {
        "colab": {
          "base_uri": "https://localhost:8080/"
        },
        "id": "iqQ4ucaR0oim",
        "outputId": "78e11a78-33fc-4bbe-df41-730e14858443"
      },
      "execution_count": 9,
      "outputs": [
        {
          "output_type": "execute_result",
          "data": {
            "text/plain": [
              "Data     datetime64[ns]\n",
              "Preço           float64\n",
              "dtype: object"
            ]
          },
          "metadata": {},
          "execution_count": 9
        }
      ]
    },
    {
      "cell_type": "markdown",
      "source": [
        "#### 2.2.2. Reload dataset"
      ],
      "metadata": {
        "id": "3g6ZHlgSt0-H"
      }
    },
    {
      "cell_type": "code",
      "source": [
        "df = petroleo_data_limpo.copy()"
      ],
      "metadata": {
        "id": "TEtqW-6ZrTPl"
      },
      "execution_count": 10,
      "outputs": []
    },
    {
      "cell_type": "code",
      "source": [
        "df = df.reset_index(drop=True).sort_values(by=\"Data\", ascending=False)"
      ],
      "metadata": {
        "id": "WloH_-veaRKY"
      },
      "execution_count": 11,
      "outputs": []
    },
    {
      "cell_type": "code",
      "source": [
        "df.to_csv('brent_limpo.csv')"
      ],
      "metadata": {
        "id": "jNYhFVdQfWGC"
      },
      "execution_count": 12,
      "outputs": []
    },
    {
      "cell_type": "markdown",
      "source": [
        "#### 2.2.3. Identify missing values"
      ],
      "metadata": {
        "id": "ynn0U0jZuIzP"
      }
    },
    {
      "cell_type": "code",
      "source": [
        "df.isna().values.any()"
      ],
      "metadata": {
        "colab": {
          "base_uri": "https://localhost:8080/"
        },
        "id": "TZY1nruCuoqD",
        "outputId": "71bfc1b3-1c78-454d-941a-abad54550abb"
      },
      "execution_count": 13,
      "outputs": [
        {
          "output_type": "execute_result",
          "data": {
            "text/plain": [
              "False"
            ]
          },
          "metadata": {},
          "execution_count": 13
        }
      ]
    },
    {
      "cell_type": "code",
      "source": [
        "df.isna().sum()"
      ],
      "metadata": {
        "colab": {
          "base_uri": "https://localhost:8080/"
        },
        "id": "ydh4TNpgt6lW",
        "outputId": "df2520b9-734b-4ce8-b914-4bb90c1fd36e"
      },
      "execution_count": 14,
      "outputs": [
        {
          "output_type": "execute_result",
          "data": {
            "text/plain": [
              "Data     0\n",
              "Preço    0\n",
              "dtype: int64"
            ]
          },
          "metadata": {},
          "execution_count": 14
        }
      ]
    },
    {
      "cell_type": "markdown",
      "source": [
        "#### 2.2.3. Identificando valores duplicados"
      ],
      "metadata": {
        "id": "3d48e63F-FUY"
      }
    },
    {
      "cell_type": "code",
      "source": [
        "df[df.duplicated()]"
      ],
      "metadata": {
        "colab": {
          "base_uri": "https://localhost:8080/",
          "height": 53
        },
        "id": "cYPVYkJO9zww",
        "outputId": "33eb3c6b-a885-494a-f185-325fcf0db620"
      },
      "execution_count": 15,
      "outputs": [
        {
          "output_type": "execute_result",
          "data": {
            "text/plain": [
              "Empty DataFrame\n",
              "Columns: [Data, Preço]\n",
              "Index: []"
            ],
            "text/html": [
              "\n",
              "  <div id=\"df-734bb3a8-d2e1-4ac4-bd55-434bba947fc9\" class=\"colab-df-container\">\n",
              "    <div>\n",
              "<style scoped>\n",
              "    .dataframe tbody tr th:only-of-type {\n",
              "        vertical-align: middle;\n",
              "    }\n",
              "\n",
              "    .dataframe tbody tr th {\n",
              "        vertical-align: top;\n",
              "    }\n",
              "\n",
              "    .dataframe thead th {\n",
              "        text-align: right;\n",
              "    }\n",
              "</style>\n",
              "<table border=\"1\" class=\"dataframe\">\n",
              "  <thead>\n",
              "    <tr style=\"text-align: right;\">\n",
              "      <th></th>\n",
              "      <th>Data</th>\n",
              "      <th>Preço</th>\n",
              "    </tr>\n",
              "  </thead>\n",
              "  <tbody>\n",
              "  </tbody>\n",
              "</table>\n",
              "</div>\n",
              "    <div class=\"colab-df-buttons\">\n",
              "\n",
              "  <div class=\"colab-df-container\">\n",
              "    <button class=\"colab-df-convert\" onclick=\"convertToInteractive('df-734bb3a8-d2e1-4ac4-bd55-434bba947fc9')\"\n",
              "            title=\"Convert this dataframe to an interactive table.\"\n",
              "            style=\"display:none;\">\n",
              "\n",
              "  <svg xmlns=\"http://www.w3.org/2000/svg\" height=\"24px\" viewBox=\"0 -960 960 960\">\n",
              "    <path d=\"M120-120v-720h720v720H120Zm60-500h600v-160H180v160Zm220 220h160v-160H400v160Zm0 220h160v-160H400v160ZM180-400h160v-160H180v160Zm440 0h160v-160H620v160ZM180-180h160v-160H180v160Zm440 0h160v-160H620v160Z\"/>\n",
              "  </svg>\n",
              "    </button>\n",
              "\n",
              "  <style>\n",
              "    .colab-df-container {\n",
              "      display:flex;\n",
              "      gap: 12px;\n",
              "    }\n",
              "\n",
              "    .colab-df-convert {\n",
              "      background-color: #E8F0FE;\n",
              "      border: none;\n",
              "      border-radius: 50%;\n",
              "      cursor: pointer;\n",
              "      display: none;\n",
              "      fill: #1967D2;\n",
              "      height: 32px;\n",
              "      padding: 0 0 0 0;\n",
              "      width: 32px;\n",
              "    }\n",
              "\n",
              "    .colab-df-convert:hover {\n",
              "      background-color: #E2EBFA;\n",
              "      box-shadow: 0px 1px 2px rgba(60, 64, 67, 0.3), 0px 1px 3px 1px rgba(60, 64, 67, 0.15);\n",
              "      fill: #174EA6;\n",
              "    }\n",
              "\n",
              "    .colab-df-buttons div {\n",
              "      margin-bottom: 4px;\n",
              "    }\n",
              "\n",
              "    [theme=dark] .colab-df-convert {\n",
              "      background-color: #3B4455;\n",
              "      fill: #D2E3FC;\n",
              "    }\n",
              "\n",
              "    [theme=dark] .colab-df-convert:hover {\n",
              "      background-color: #434B5C;\n",
              "      box-shadow: 0px 1px 3px 1px rgba(0, 0, 0, 0.15);\n",
              "      filter: drop-shadow(0px 1px 2px rgba(0, 0, 0, 0.3));\n",
              "      fill: #FFFFFF;\n",
              "    }\n",
              "  </style>\n",
              "\n",
              "    <script>\n",
              "      const buttonEl =\n",
              "        document.querySelector('#df-734bb3a8-d2e1-4ac4-bd55-434bba947fc9 button.colab-df-convert');\n",
              "      buttonEl.style.display =\n",
              "        google.colab.kernel.accessAllowed ? 'block' : 'none';\n",
              "\n",
              "      async function convertToInteractive(key) {\n",
              "        const element = document.querySelector('#df-734bb3a8-d2e1-4ac4-bd55-434bba947fc9');\n",
              "        const dataTable =\n",
              "          await google.colab.kernel.invokeFunction('convertToInteractive',\n",
              "                                                    [key], {});\n",
              "        if (!dataTable) return;\n",
              "\n",
              "        const docLinkHtml = 'Like what you see? Visit the ' +\n",
              "          '<a target=\"_blank\" href=https://colab.research.google.com/notebooks/data_table.ipynb>data table notebook</a>'\n",
              "          + ' to learn more about interactive tables.';\n",
              "        element.innerHTML = '';\n",
              "        dataTable['output_type'] = 'display_data';\n",
              "        await google.colab.output.renderOutput(dataTable, element);\n",
              "        const docLink = document.createElement('div');\n",
              "        docLink.innerHTML = docLinkHtml;\n",
              "        element.appendChild(docLink);\n",
              "      }\n",
              "    </script>\n",
              "  </div>\n",
              "\n",
              "\n",
              "    </div>\n",
              "  </div>\n"
            ]
          },
          "metadata": {},
          "execution_count": 15
        }
      ]
    },
    {
      "cell_type": "code",
      "source": [
        "df.duplicated().sum()"
      ],
      "metadata": {
        "id": "2C6F-5Cd-dF-"
      },
      "execution_count": null,
      "outputs": []
    },
    {
      "cell_type": "markdown",
      "source": [
        "Não há valores duplicados."
      ],
      "metadata": {
        "id": "XITrjU3V-X-u"
      }
    },
    {
      "cell_type": "markdown",
      "source": [
        "### 2.3. Análise Exploratória de Dados"
      ],
      "metadata": {
        "id": "bIILrryJ-7WV"
      }
    },
    {
      "cell_type": "markdown",
      "source": [
        "#### Avaliação do comportamento dos preços do barril ao longo do tempo"
      ],
      "metadata": {
        "id": "w9o92QkNoZQ5"
      }
    },
    {
      "cell_type": "code",
      "source": [
        "sns.set(style=\"whitegrid\")\n",
        "media = df['Preço'].mean()\n",
        "desvio_padrao = df['Preço'].std()\n",
        "\n",
        "plt.figure(figsize=(12, 6))\n",
        "\n",
        "sns.lineplot(x='Data', y='Preço', data=df, label='Preços ao longo do tempo')\n",
        "\n",
        "plt.fill_between(df['Data'], df['Preço'] - desvio_padrao, df['Preço'] + desvio_padrao, color='blue', alpha=0.2)\n",
        "\n",
        "plt.axhline(y=media, color='red', linestyle='--', label='Média dos Preços')\n",
        "\n",
        "plt.xlabel('Data')\n",
        "plt.ylabel('Preço')\n",
        "plt.title('Preços em função do tempo')\n",
        "plt.legend()\n",
        "\n",
        "plt.show()\n"
      ],
      "metadata": {
        "id": "5HSwhSjlpY0_"
      },
      "execution_count": null,
      "outputs": []
    },
    {
      "cell_type": "markdown",
      "source": [
        "A sombra representa o nosso desvio padrão em torno do comportamento do preço da commoditie."
      ],
      "metadata": {
        "id": "RXmjxqWfsJqA"
      }
    },
    {
      "cell_type": "markdown",
      "source": [
        "#### <u>Medidas de Tendência central"
      ],
      "metadata": {
        "id": "agND_Mffb6t2"
      }
    },
    {
      "cell_type": "code",
      "source": [
        "round(df.describe(),2).T"
      ],
      "metadata": {
        "id": "rfOGZVWA-WtP"
      },
      "execution_count": null,
      "outputs": []
    },
    {
      "cell_type": "markdown",
      "source": [
        "#### Mediana"
      ],
      "metadata": {
        "id": "UTeW5vcNjjmH"
      }
    },
    {
      "cell_type": "code",
      "source": [
        "df['Preço'].median()"
      ],
      "metadata": {
        "id": "yo7ML8t7im6c"
      },
      "execution_count": null,
      "outputs": []
    },
    {
      "cell_type": "markdown",
      "source": [
        "#### Média aparada"
      ],
      "metadata": {
        "id": "Ua4C-xJUe3ou"
      }
    },
    {
      "cell_type": "markdown",
      "source": [
        "Aqui vamos avaliar o impacto de outliers para essa diferença entre a média e a mediana com a utilização da média aparada."
      ],
      "metadata": {
        "id": "20UjK9TMe_1T"
      }
    },
    {
      "cell_type": "code",
      "source": [
        "# Definindo a porcentagem de dados a serem aparados de cada extremidade\n",
        "# Por exemplo, 0.1 significa aparar 10% dos dados de cada extremidade\n",
        "proporcao_aparada = 0.1\n",
        "\n",
        "# Calculando a média aparada\n",
        "media_aparada = trim_mean(df['Preço'], proporcao_aparada)\n",
        "\n",
        "print(\"Média Aparada:\", media_aparada)\n"
      ],
      "metadata": {
        "id": "V-mr6ye3_Og4"
      },
      "execution_count": null,
      "outputs": []
    },
    {
      "cell_type": "markdown",
      "source": [
        "Vemos que realmente há o impacto de valores extremos no desvio entre a média e a mediana considerando apenas 10% do total dos dados. Vamos continuar avaliando os outliers para sabermos o impacto que esses extremos podem causar nos nossos modelos de machine learning, dada a possibilidade de sensibilidade desses."
      ],
      "metadata": {
        "id": "zKRX-0cRgElC"
      }
    },
    {
      "cell_type": "markdown",
      "source": [
        "#### <u>Medidas de Dispersão complementares"
      ],
      "metadata": {
        "id": "VJl9JArOyRiL"
      }
    },
    {
      "cell_type": "markdown",
      "source": [
        "#### Boxplot e distribuição do tipo violino"
      ],
      "metadata": {
        "id": "H2E72h5v1DyW"
      }
    },
    {
      "cell_type": "code",
      "source": [
        "fig, ax = plt.subplots(figsize=(8,6))\n",
        "sns.violinplot(x='Preço', data=df, ax=ax, color='lightgreen')\n",
        "sns.boxplot(x='Preço', data=df, ax=ax, whis=1.5, color='blue')\n",
        "ax.set_title('Visualização Box Plot e Violin Plot')\n",
        "plt.show()"
      ],
      "metadata": {
        "id": "s7eG1isxGN_E"
      },
      "execution_count": null,
      "outputs": []
    },
    {
      "cell_type": "markdown",
      "source": [
        "#### Distribuição com histograma"
      ],
      "metadata": {
        "id": "mipUQPZQ1Jjq"
      }
    },
    {
      "cell_type": "code",
      "source": [
        "sns.set(style=\"whitegrid\")\n",
        "\n",
        "plt.figure(figsize=(12, 6))\n",
        "sns.histplot(df['Preço'], kde=True, color='blue')\n",
        "plt.title('Distribuição dos Preços do Petróleo')\n",
        "plt.xlabel('Preço')\n",
        "plt.ylabel('Frequência')\n",
        "plt.show()"
      ],
      "metadata": {
        "id": "UrlyuTKmyoWp"
      },
      "execution_count": null,
      "outputs": []
    },
    {
      "cell_type": "markdown",
      "source": [
        "#### <u><b>Insights decorrentes da Análise Exploratória de Dados - AED"
      ],
      "metadata": {
        "id": "9wCTtMvaLns5"
      }
    },
    {
      "cell_type": "markdown",
      "source": [
        "Na AED podemos ver o comportamento dos preços do petróleo, como a variância entre os valores mínimos e máximos, bem como o valor médio e a mediana com o intervalo de 50% interquartil.\n",
        "<br><br>\n",
        "O desvio padrão elevado nos mostra que temos uma alta volatilidade no preço dessa commoditie, o que implica em um maior risco para o mercado. Tal resultado implica na maior necessidade de planejamento orçamentário para possíveis elevações dos preços e também pode ser utilizado para a avaliação do custo de oportunidade ao investir nesse mercado em relação a outros mercados. Claro, entretanto, que sabemos que o nosso dataframe não apresenta outras features importantes que implicam nesse cenário, já que o preço de uma commoditie como o petróleo é diretamente correspondente a decisões de produtividade e com políticas ambientalistas. Tal característica significa que vamos utilizar aqui modelos de séries temporais para a nossa previsão de preços em linha ao objetivo do projeto em face da nossa série de eventos em função do tempo.\n",
        "<br><br>\n",
        "Na comparação entre as medidas da média e da mediana, vimos que há uma diferença significativa entre elas, o que remete a uma distribuição assimétrica dos nossos dados em torno da média, ou seja, não temos uma distribuição normal gaussiana. Uma das possibilidades é que tenhamos a presença de outliers que gerem esse impacto. Vamos avaliar em seguida.\n",
        "<br><br>\n",
        "O histograma dos preços do petróleo nos fornece uma visão da distribuição dos preços ao longo do tempo. A distribuição apresenta uma assimetria positiva (à direita), isso implica que a maior parte dos preços estão concentrados abaixo da média, mas existem alguns valores extremos mais altos que \"puxam\" a média para cima. Com base nisso, vamos a alguns insights relacionados a essa distribuição:\n",
        "<br><br>\n",
        "**Volatilidade do Mercado**: a distribuição indica que há períodos de alta volatilidade nos preços do petróleo. Esses picos podem estar relacionados a eventos específicos, como crises geopolíticas, mudanças na produção de petróleo, ou outros fatores do mercado;\n",
        "<br><br>\n",
        "**Riscos de Investimento**: Para investidores, a distribuição sinaliza um maior risco, pois há uma chance significativa de ocorrerem picos de preços. Essa informação é crucial para estratégias de \"hedge\" e para a tomada de decisões de investimento.\n",
        "<br><br>\n",
        "**Planejamento e Previsão**: Empresas que dependem do petróleo como matéria-prima podem usar essa informação para planejar e prever custos. A presença de valores extremos sugere a necessidade de um planejamento cuidadoso para lidar com possíveis aumentos súbitos nos preços.\n",
        "<br><br>\n",
        "**Análise de Tendências**: Identificar os períodos em que ocorreram os picos de preço pode levar a uma análise mais aprofundada sobre o que causou esses aumentos. Isso ajuda a prever futuras tendências de mercado ou a entender melhor os fatores que afetam os preços do petróleo.\n",
        "<br><br>\n",
        "**Estratégias de Compra**: O nosso entendimento sobre a distribuição dos preços pode nos ajudar a desenvolver estratégias de compra, como a compra de futuros para proteção contra picos de preços, a operação de hedge que citamos anteriormente.\n",
        "<br><br>\n",
        "**Impacto Econômico**: os impactos econômicos estão mais relacionados em setores sensíveis a esses preços, como transporte e manufatura."
      ],
      "metadata": {
        "id": "MfUtAJ664XgF"
      }
    },
    {
      "cell_type": "markdown",
      "source": [
        "### 2.4. Análise dos componentes temporais"
      ],
      "metadata": {
        "id": "5RlHyPB9JUNY"
      }
    },
    {
      "cell_type": "markdown",
      "source": [
        "\n",
        "\n",
        "**Análise de Séries Temporais**: Identificar padrões como sazonalidade, tendência e ruído. Gráficos como decomposição de séries temporais podem ser úteis como os pilares da nossa análise temporal. Assim, de forma sintética vamos elucidar abaixo o que vamos entender com cada um desses pilares:<br><br>\n",
        "\n",
        "- Tendência: em termos gerais é a nossa direção, mesmo que considerando fractais e/ou desvios no curto prazo;<br>\n",
        "- Sazonalidade: rocorrência das nossas oscilações; e<br>\n",
        "- Resíduo: o que sobra da nossa série quando retiramos a nossa sazonalidade."
      ],
      "metadata": {
        "id": "D4DCAew85l0j"
      }
    },
    {
      "cell_type": "markdown",
      "source": [
        "#### Definindo a minha coluna 'Data\"como a coluna index do dataframe"
      ],
      "metadata": {
        "id": "QFno494ZiRfh"
      }
    },
    {
      "cell_type": "code",
      "source": [
        "df.set_index('Data', inplace=True )"
      ],
      "metadata": {
        "id": "HLLquOcQQ9WB"
      },
      "execution_count": 16,
      "outputs": []
    },
    {
      "cell_type": "code",
      "source": [
        "df.head()"
      ],
      "metadata": {
        "id": "2JnHL0v7iFLU"
      },
      "execution_count": null,
      "outputs": []
    },
    {
      "cell_type": "markdown",
      "source": [
        "#### Parametrizando a frequência da série temporal para a avaliação dos pilares da série"
      ],
      "metadata": {
        "id": "V05kpyhxkLZ5"
      }
    },
    {
      "cell_type": "markdown",
      "source": [
        "<u>Frequência - MENSAL"
      ],
      "metadata": {
        "id": "vXVFug3Tj1cJ"
      }
    },
    {
      "cell_type": "markdown",
      "source": [
        "Vimos que ao definirmos a frequência temos valores nulos preenchidos automaticamente pelo método e, para tal, utilizamos o método fillna com o parâmetro 'bfill', que define ao valor NaN o valor do próximo evento do dataframe. Essa é uma maneira para podermos gerar o seasonal_decompose, já que este não permite que utilizemos valores nulos no df."
      ],
      "metadata": {
        "id": "1VPE1NdKl2pW"
      }
    },
    {
      "cell_type": "code",
      "source": [
        "df2 = df.asfreq('M').fillna(method='bfill')"
      ],
      "metadata": {
        "id": "-HMkrgHxRRQS"
      },
      "execution_count": null,
      "outputs": []
    },
    {
      "cell_type": "code",
      "source": [
        "df2"
      ],
      "metadata": {
        "id": "bMOfdLD7kjj8"
      },
      "execution_count": null,
      "outputs": []
    },
    {
      "cell_type": "code",
      "source": [
        "df2.loc['2023-12-31'] = 81.72"
      ],
      "metadata": {
        "id": "uQ0I9u9fk8Ih"
      },
      "execution_count": null,
      "outputs": []
    },
    {
      "cell_type": "code",
      "source": [
        "df2.loc['2023-12-31']"
      ],
      "metadata": {
        "id": "S9wU4YXVlIv5"
      },
      "execution_count": null,
      "outputs": []
    },
    {
      "cell_type": "code",
      "source": [
        "df2.isna().sum()"
      ],
      "metadata": {
        "id": "Ai5VjYFxktIn"
      },
      "execution_count": null,
      "outputs": []
    },
    {
      "cell_type": "code",
      "source": [
        "sns.set(style=\"whitegrid\")\n",
        "plt.figure(figsize=(12, 6))\n",
        "sns.lineplot(x=df2.index, y='Preço', data=df2, label='Preços ao longo do tempo')\n",
        "plt.xlabel('Data')\n",
        "plt.ylabel('Preço')\n",
        "plt.title('Preços em função do tempo')\n",
        "plt.legend()\n",
        "\n",
        "plt.show()"
      ],
      "metadata": {
        "id": "uAMNNe5FRVRY"
      },
      "execution_count": null,
      "outputs": []
    },
    {
      "cell_type": "code",
      "source": [
        "df.shape"
      ],
      "metadata": {
        "id": "meQ-zx1rjvkW"
      },
      "execution_count": null,
      "outputs": []
    },
    {
      "cell_type": "markdown",
      "source": [
        "<b>Frequência - DIÁRIA"
      ],
      "metadata": {
        "id": "pKOGV4X0lv9E"
      }
    },
    {
      "cell_type": "code",
      "source": [
        "df3 = df.asfreq('D').fillna(method='bfill')"
      ],
      "metadata": {
        "id": "4wBveaCDlvWj"
      },
      "execution_count": 17,
      "outputs": []
    },
    {
      "cell_type": "code",
      "source": [
        "df3"
      ],
      "metadata": {
        "id": "RaF487sDmd3S"
      },
      "execution_count": null,
      "outputs": []
    },
    {
      "cell_type": "code",
      "source": [
        "df3.shape"
      ],
      "metadata": {
        "id": "gK06QciumibY"
      },
      "execution_count": null,
      "outputs": []
    },
    {
      "cell_type": "code",
      "source": [
        "df3.isna().sum()"
      ],
      "metadata": {
        "id": "q7X2BCK3miNw"
      },
      "execution_count": null,
      "outputs": []
    },
    {
      "cell_type": "code",
      "source": [
        "sns.set(style=\"whitegrid\")\n",
        "plt.figure(figsize=(12, 6))\n",
        "sns.lineplot(x=df3.index, y='Preço', data=df3, label='Preços ao longo do tempo')\n",
        "plt.xlabel('Data')\n",
        "plt.ylabel('Preço')\n",
        "plt.title('Preços em função do tempo')\n",
        "plt.legend()\n",
        "\n",
        "plt.show()"
      ],
      "metadata": {
        "id": "6rOTkUyInLBu"
      },
      "execution_count": null,
      "outputs": []
    },
    {
      "cell_type": "markdown",
      "source": [
        "Para efeito de vizualização, vamos colocar as séries com frequências mensal e diária lado a lado:"
      ],
      "metadata": {
        "id": "7CaLHxx1njnd"
      }
    },
    {
      "cell_type": "code",
      "source": [
        "sns.set(style=\"whitegrid\")\n",
        "\n",
        "plt.figure(figsize=(24, 6))\n",
        "\n",
        "# 1 linha, 2 colunas, primeiro gráfico\n",
        "plt.subplot(1, 2, 1)\n",
        "\n",
        "sns.lineplot(x=df2.index, y='Preço', data=df2, label='Preços ao longo do tempo')\n",
        "plt.xlabel('Data')\n",
        "plt.ylabel('Preço')\n",
        "plt.title('Preços em função do tempo - frquência mensal')\n",
        "plt.legend()\n",
        "\n",
        "# Segundo subplot\n",
        "plt.subplot(1, 2, 2)\n",
        "sns.lineplot(x=df3.index, y='Preço', data=df3, label='Preços ao longo do tempo')\n",
        "plt.xlabel('Data')\n",
        "plt.ylabel('Preço')\n",
        "plt.title('Preços em função do tempo - frquência diária')\n",
        "plt.legend()\n",
        "\n",
        "plt.show()"
      ],
      "metadata": {
        "id": "5znS6obsojU7"
      },
      "execution_count": null,
      "outputs": []
    },
    {
      "cell_type": "markdown",
      "source": [
        "Vemos que o gráfico diário nos apresenta uma variabilidade muito maior em relação às fractais apresentadas no gráfico mensal. Pensando que estamos lidando com um modelo de machine learning, cujo modelo será treinado e que o seu desempenho para uma previsão mais assertiva se dá com a necessidade de um maior número de dados, vamos decidir utilizar o nosso dataframe 3, cuja frequência é diária e podemos alimentar o nosso modelo com uma maior variabilidade."
      ],
      "metadata": {
        "id": "mybqtSfRpeoK"
      }
    },
    {
      "cell_type": "markdown",
      "source": [
        "#### Decomposição da série temporal: Tendência, Sazonalidade e Ruído"
      ],
      "metadata": {
        "id": "HuklAHU5qHyE"
      }
    },
    {
      "cell_type": "code",
      "source": [
        "resultados = seasonal_decompose(df3, model='multiplicative')\n"
      ],
      "metadata": {
        "id": "If2VzOERjgO4"
      },
      "execution_count": null,
      "outputs": []
    },
    {
      "cell_type": "code",
      "source": [
        "fig, (ax1,ax2,ax3,ax4) = plt.subplots(4,1, figsize = (15,10))\n",
        "\n",
        "resultados.observed.plot(ax=ax1)\n",
        "resultados.trend.plot(ax=ax2)\n",
        "resultados.seasonal.plot(ax=ax3)\n",
        "resultados.resid.plot(ax=ax4)\n",
        "\n",
        "plt.tight_layout()"
      ],
      "metadata": {
        "id": "27WmYS9gqeC2"
      },
      "execution_count": null,
      "outputs": []
    },
    {
      "cell_type": "markdown",
      "source": [
        "#### <b><u>Insights decorrentes da decomposição da série temporal"
      ],
      "metadata": {
        "id": "BjZNYlNuEDT0"
      }
    },
    {
      "cell_type": "markdown",
      "source": [
        "- <u>Dados originais</u>: Este é o gráfico da série temporal original. Aparentemente, mostra variações significativas ao longo do tempo com períodos de aumento e queda nos preços. Entretanto, estamos estudando uma commoditie que cuja variação está diretamente ligada a eventos específicos que causaram picos ou quedas no preço, como crises econômicas, mudanças políticas, ou desastres naturais que afetam a oferta e demanda de petróleo;<br><br>\n",
        "\n",
        "- <u>Gráfico de Tendência</u>: O gráfico de tendência mostra uma visão suavizada, destacando as mudanças de longo prazo nos preços do petróleo Brent. Parece haver um aumento geral na tendência até cerca de 2008, seguido por uma relativa estabilidade e, depois, uma tendência de queda e aumento novamente após 2010 em face da crise causada falta de liquidez bancária gerada pela falta de critérios sólidos de concessão de crédito imobiliário, o que podemos sintetizar como subprime. Isso pode refletir mudanças de longo prazo na economia global, mudanças na produção de petróleo, ou políticas energéticas, bem como novas crises, como a causada pela Covid-19, ocorrida nos últimos anos, principalmente nos anos de 2019 a 2021 e as guerras entre a Rússia e Ucrânia e a guerra no mundo árabe; <br><br>\n",
        "\n",
        "- <u>Gráfico Sazonal</u>: Primeiro cabe citar que entendemos sazonalidade como flutuações periódicas e previsíveis. O gráfico de sazonalidade aqui nos mostra que a sazonalidade é muito pequena quando comparada com a magnitude dos dados e variações absolutas; e<br><br>\n",
        "\n",
        "- <u>Gráfico de Resíduos</u>: O gráfico de resíduos mostra o que resta depois de retirar a tendência e a sazonalidade dos dados. Este ruído pode conter informações aleatórias ou não capturadas pelos outros componentes. No nosso caso, os resíduos parecem ter alguma estrutura, com períodos de maior volatilidade, o que pode indicar informações adicionais que poderiam ser modeladas ou investigadas."
      ],
      "metadata": {
        "id": "M0wEZDPl5GUf"
      }
    },
    {
      "cell_type": "markdown",
      "source": [
        "\n",
        "## **Verificação de Estacionaridade:**\n",
        "\n"
      ],
      "metadata": {
        "id": "ppxqe9m8__gM"
      }
    },
    {
      "cell_type": "markdown",
      "source": [
        "\n",
        "Séries temporais devem ser estacionárias para a maioria das modelagens. Testes como o teste Dickey-Fuller aumentado podem ser usados para verificar a estacionariedade."
      ],
      "metadata": {
        "id": "KfwOnEQpdSla"
      }
    },
    {
      "cell_type": "markdown",
      "source": [
        "##### <b>ADF - Augmented Dickey Fuller</b>\n",
        "\n",
        "###### H0 - Hipótese Nula (não é estacionária)\n",
        "###### H1 - Hipótese Alternativa (rejeição da hipótese nula)\n",
        "\n",
        "##### p -value = 0.05 (5%), então rejeitamos H0 com um nível de confiança de 95%"
      ],
      "metadata": {
        "id": "ZaNvOmiaKVNy"
      }
    },
    {
      "cell_type": "code",
      "source": [
        "sns.set_style('darkgrid')"
      ],
      "metadata": {
        "id": "Rk5aSYJwIzeL"
      },
      "execution_count": null,
      "outputs": []
    },
    {
      "cell_type": "code",
      "source": [
        "X = df3.Preço.values #transformando a nossa variável num array"
      ],
      "metadata": {
        "id": "4-gBjn_KI-Yq"
      },
      "execution_count": null,
      "outputs": []
    },
    {
      "cell_type": "code",
      "source": [
        "result = adfuller(X)\n",
        "\n",
        "print(\"Teste ADF\")\n",
        "print(f\"Teste Estatístico: {result[0]}\")\n",
        "print(f\"P-Value: {result[1]}\")\n",
        "print(\"Valores críticos:\")\n",
        "\n",
        "for key, value in result[4].items():\n",
        "  print(f\"\\t{key}: {value}\")"
      ],
      "metadata": {
        "id": "ElZwDGEfJApt"
      },
      "execution_count": null,
      "outputs": []
    },
    {
      "cell_type": "markdown",
      "source": [
        "A hipótese nula (H0) para o teste ADF é que a série temporal possui uma raiz unitária e, portanto, é não estacionária;<br>\n",
        "O valor-p de 0.2666 é maior do que o nível de significância de 0.05 (5%). Isso significa que não temos evidências suficientes para rejeitar a hipótese nula com um nível de confiança de 95%. Em outras palavras, com base no valor-p, a série temporal parece ser **não estacionária**;<br>\n",
        "O teste estatístico de -2.0464 é maior (em termos de valor absoluto) do que os valores críticos para os níveis de confiança de 1%, 5% e 10%. Isso reforça a conclusão de que não podemos rejeitar a hipótese nula."
      ],
      "metadata": {
        "id": "_cdHhNRRVHTw"
      }
    },
    {
      "cell_type": "markdown",
      "source": [
        "**Cálculo da Média Móvel e Plotagem da Série Temporal e da Média Móvel** como testes adicionais à verificação de estacionaridade da série temporal"
      ],
      "metadata": {
        "id": "b00U6Fd4WwxY"
      }
    },
    {
      "cell_type": "markdown",
      "source": [
        "Visualizar a série temporal juntamente com sua média móvel. A média móvel suaviza a série temporal e ajuda a identificar tendências de longo prazo, eliminando flutuações de curto prazo. Isso pode ser particularmente útil para identificar se existe alguma tendência subjacente na série temporal, o que é uma consideração importante ao determinar se uma série é estacionária ou não."
      ],
      "metadata": {
        "id": "DZQjEFJTXA69"
      }
    },
    {
      "cell_type": "code",
      "source": [
        "ma = df3.rolling(12).mean()\n",
        "\n",
        "f, ax = plt.subplots()\n",
        "df3.plot(ax=ax, legend=False)\n",
        "ma.plot(ax=ax, legend=False, color='r')\n",
        "plt.tight_layout()"
      ],
      "metadata": {
        "id": "sWsRa7X2JZkr"
      },
      "execution_count": null,
      "outputs": []
    },
    {
      "cell_type": "markdown",
      "source": [
        "**Variação na média**: A linha da média móvel (em vermelho) não é constante ao longo do tempo. Ela mostra uma variação significativa, subindo e descendo em diferentes períodos. Isso é um indicativo de que a média da série temporal varia com o tempo.<br>\n",
        "**Tendência**: A média móvel também parece capturar uma tendência de aumento nos preços ao longo do tempo, particularmente notável na subida para os picos em torno de 2008 e após 2010.<br>\n",
        "**Variação na Amplitude**: Além disso, a amplitude das flutuações da série temporal parece mudar em diferentes períodos, o que pode sugerir mudanças na variância ao longo do tempo, entretanto, esse laventamento já fora realizado na própria análise exploratória de dados.\n",
        "<br><br>\n",
        "Os aspectos visuais reforçam a ideia de que a série temporal não é estacionária. Em séries estacionárias, esperamos que a média e a variância sejam aproximadamente constantes ao longo do tempo, e que não haja uma forma ou tendência clara visível na média móvel. A presença de tendências ou mudanças na variância é um sinal de não-estacionariedade, que está em linha com os resultados do nosso teste ADF, onde o valor-p não foi suficientemente baixo para rejeitar a hipótese nula de que a série tem uma raiz unitária (ou seja, é não estacionária).<br><br>\n",
        "Com base nos resultados acima apresentados vamos realizar a transformação da nossa série em uma série logarítmica. A transformação logarítmica é uma técnica comum usada para estabilizar a variância em séries temporais, especialmente quando há flutuações significativas ou crescimento exponencial. Ela também pode ajudar a tornar as tendências mais lineares e, portanto, mais fáceis de modelar com técnicas estatísticas."
      ],
      "metadata": {
        "id": "bau-ueVBWmB_"
      }
    },
    {
      "cell_type": "code",
      "source": [
        "df_log = np.log(df3)\n",
        "ma_log = df_log.rolling(12).mean()\n",
        "\n",
        "f, ax = plt.subplots()\n",
        "df_log.plot(ax=ax, legend=False)\n",
        "ma_log.plot(ax=ax, legend=False, color='r')\n",
        "plt.tight_layout()"
      ],
      "metadata": {
        "id": "ncDhvp7aJjjA"
      },
      "execution_count": null,
      "outputs": []
    },
    {
      "cell_type": "markdown",
      "source": [
        "Conforme acima apresentado, para considerar uma série temporal como estacionária, queremos ver uma média móvel que permanece aproximadamente constante ao longo do tempo, sem padrões sistemáticos de subida ou descida. Ainda que a transformação logarítmica possa ter ajudado a estabilizar a variância, a presença de uma tendência sugere que a série ainda não é estacionária."
      ],
      "metadata": {
        "id": "7tmYIjVnY1bl"
      }
    },
    {
      "cell_type": "markdown",
      "source": [
        " Agora vamos analisar a estacionariedade da série temporal após a remoção da tendência. Ao plotar a série diferenciada juntamente com a média móvel e desvio padrão, podemos avaliar visualmente se a série se tornou mais estacionária."
      ],
      "metadata": {
        "id": "OhcHfdhfZ__T"
      }
    },
    {
      "cell_type": "code",
      "source": [
        "df_s = (df_log - ma_log).dropna()\n",
        "\n",
        "ma_s = df_s.rolling(12).mean()\n",
        "\n",
        "std = df_s.rolling(12).std()\n",
        "\n",
        "f, ax = plt.subplots()\n",
        "df_s.plot(ax=ax, legend=False)\n",
        "ma_s.plot(ax=ax, legend=False, color='r')\n",
        "std.plot(ax=ax, legend=False, color='g')\n",
        "plt.tight_layout()"
      ],
      "metadata": {
        "id": "roxiWC6MJrwY"
      },
      "execution_count": null,
      "outputs": []
    },
    {
      "cell_type": "markdown",
      "source": [
        "Com base no gráfico acima apresentado, a linha da média móvel (vermelha) parece estar oscilando em torno de zero sem uma direção de tendência clara, o que é um bom sinal para a estacionariedade.<br><br>\n",
        "O desvio padrão móvel (verde) também parece relativamente constante ao longo do tempo, sem grandes variações, sugerindo que a volatilidade da série não está mudando com o tempo, o que também apoia a noção de estacionariedade.<br>\n",
        "A série temporal ajustada (azul) não mostra padrões claros de tendência ou sazonalidade e oscila em torno da média móvel (vermelho), o que reforça a ideia de que a série pode ser estacionária.<br><br>\n",
        "No entanto, ainda existem picos e vales, e algumas oscilações notáveis, especialmente um pico significativo próximo ao final da série. Estas podem ser outliers ou podem ser causadas por eventos específicos.Portanto, é apropriado realizar novamente um teste ADF, na série ajustada.\n"
      ],
      "metadata": {
        "id": "pBxJZPSGadtL"
      }
    },
    {
      "cell_type": "code",
      "source": [
        "X_s = df_s.Preço.values\n",
        "result_s = adfuller(X_s)\n",
        "\n",
        "print(\"Teste ADF\")\n",
        "print(f\"Teste Estatístico: {result_s[0]}\")\n",
        "print(f\"P-Value: {result_s[1]}\")\n",
        "print(\"Valores críticos:\")\n",
        "\n",
        "for key, value in result_s[4].items():\n",
        "  print(f\"\\t{key}: {value}\")"
      ],
      "metadata": {
        "id": "XSOnGkTSJ0VY"
      },
      "execution_count": null,
      "outputs": []
    },
    {
      "cell_type": "markdown",
      "source": [
        "O teste estatístico está bem abaixo do valor crítico de 1%. Isso significa que você pode rejeitar a hipótese nula com mais de 99% de confiança, o que é uma indicação muito forte de que a série temporal é estacionária.<br>\n",
        "O valor-p é praticamente zero, o que fornece evidências estatísticas muito fortes contra a hipótese nula. Isso reforça a conclusão de que a série temporal não possui uma raiz unitária e é estacionária.<br>\n",
        "Dado que os valores críticos são significativamente mais altos que o valor do teste estatístico, essa diferença reforça ainda mais a rejeição da hipótese nula.<br>\n",
        "Assim, com base no teste ADF, temos fortes evidências estatísticas de que a série temporal ajustada, após subtração da média móvel da série logarítmica, é estacionária. Isso sugere que qualquer tendência ou sazonalidade presente na série original foi removida com sucesso, e a série transformada pode ser considerada para análises adicionais e modelagem de previsão. Trabalhar com séries temporais estacionárias é uma prática padrão na previsão de séries temporais porque simplifica a modelagem, aumenta a precisão das previsões e garante que as propriedades estatísticas dos dados permaneçam consistentes ao longo do tempo. Isso é essencial para que os modelos de previsão sejam capazes de capturar a verdadeira natureza dos processos geradores dos dados.<br><br>Poderíamos tentar aumentar a nossa suavisação para garantir uma maior estacionaridade, mas nesse momento iremos aceitar a atual margem como suficiente para prosseguirmos com o nosso forecasting da série temporal."
      ],
      "metadata": {
        "id": "JbKv6a_kby3v"
      }
    },
    {
      "cell_type": "markdown",
      "source": [
        "## **2.5. Treinando os modelos e testando as performances**"
      ],
      "metadata": {
        "id": "x8m4SBPUL0K_"
      }
    },
    {
      "cell_type": "markdown",
      "source": [
        "####**Prophet**"
      ],
      "metadata": {
        "id": "dZasXny8XwNb"
      }
    },
    {
      "cell_type": "code",
      "source": [
        "df4 = df3.reset_index(drop=False)"
      ],
      "metadata": {
        "id": "tNyPwub9YsTX"
      },
      "execution_count": 18,
      "outputs": []
    },
    {
      "cell_type": "code",
      "source": [
        "df4 = df4.rename(columns={'Data':'ds', 'Preço':'y'})"
      ],
      "metadata": {
        "id": "t-nTFBLrY3jB"
      },
      "execution_count": 19,
      "outputs": []
    },
    {
      "cell_type": "code",
      "source": [
        "df4.dtypes"
      ],
      "metadata": {
        "colab": {
          "base_uri": "https://localhost:8080/"
        },
        "id": "li87WH6bbwyr",
        "outputId": "ae1917fa-8e38-4266-f70e-21ed0cacae0f"
      },
      "execution_count": 20,
      "outputs": [
        {
          "output_type": "execute_result",
          "data": {
            "text/plain": [
              "ds    datetime64[ns]\n",
              "y            float64\n",
              "dtype: object"
            ]
          },
          "metadata": {},
          "execution_count": 20
        }
      ]
    },
    {
      "cell_type": "markdown",
      "source": [
        "#### Separando em treino e teste"
      ],
      "metadata": {
        "id": "v_rg69oJL40D"
      }
    },
    {
      "cell_type": "code",
      "source": [
        "train_data = df4.sample(frac=0.8, random_state=0)\n",
        "test_data = df4.drop(train_data.index)\n",
        "print(f'training data size : {train_data.shape}')\n",
        "print(f'testing data size : {test_data.shape}')"
      ],
      "metadata": {
        "colab": {
          "base_uri": "https://localhost:8080/"
        },
        "id": "4aKfzgx3WoUP",
        "outputId": "9fba075e-a546-46c8-e96c-1dcff994c6ab"
      },
      "execution_count": 21,
      "outputs": [
        {
          "output_type": "stream",
          "name": "stdout",
          "text": [
            "training data size : (10718, 2)\n",
            "testing data size : (2679, 2)\n"
          ]
        }
      ]
    },
    {
      "cell_type": "markdown",
      "source": [
        "#### Treinando o modelo"
      ],
      "metadata": {
        "id": "dyoA95RscELH"
      }
    },
    {
      "cell_type": "code",
      "source": [
        "modelo = Prophet(daily_seasonality=True)\n",
        "modelo.fit(train_data)\n",
        "dataFramefuture = modelo.make_future_dataframe(periods=30, freq='D')\n",
        "previsao = modelo.predict(dataFramefuture)\n",
        "previsao.head()"
      ],
      "metadata": {
        "colab": {
          "base_uri": "https://localhost:8080/",
          "height": 499
        },
        "id": "4B9jKjM2Xeeb",
        "outputId": "96296018-bc86-43d2-81b0-1bbf96b161f2"
      },
      "execution_count": 33,
      "outputs": [
        {
          "output_type": "stream",
          "name": "stderr",
          "text": [
            "DEBUG:cmdstanpy:input tempfile: /tmp/tmp2zq5zzy1/1ctt74zt.json\n",
            "DEBUG:cmdstanpy:input tempfile: /tmp/tmp2zq5zzy1/p3ruesm6.json\n",
            "DEBUG:cmdstanpy:idx 0\n",
            "DEBUG:cmdstanpy:running CmdStan, num_threads: None\n",
            "DEBUG:cmdstanpy:CmdStan args: ['/usr/local/lib/python3.10/dist-packages/prophet/stan_model/prophet_model.bin', 'random', 'seed=62611', 'data', 'file=/tmp/tmp2zq5zzy1/1ctt74zt.json', 'init=/tmp/tmp2zq5zzy1/p3ruesm6.json', 'output', 'file=/tmp/tmp2zq5zzy1/prophet_model5k0h3ch4/prophet_model-20240128185256.csv', 'method=optimize', 'algorithm=lbfgs', 'iter=10000']\n",
            "18:52:56 - cmdstanpy - INFO - Chain [1] start processing\n",
            "INFO:cmdstanpy:Chain [1] start processing\n",
            "18:53:12 - cmdstanpy - INFO - Chain [1] done processing\n",
            "INFO:cmdstanpy:Chain [1] done processing\n"
          ]
        },
        {
          "output_type": "execute_result",
          "data": {
            "text/plain": [
              "          ds      trend  yhat_lower  yhat_upper  trend_lower  trend_upper  \\\n",
              "0 1987-05-21  17.357635    2.322692   30.414458    17.357635    17.357635   \n",
              "1 1987-05-22  17.361804    3.092079   29.990604    17.361804    17.361804   \n",
              "2 1987-05-23  17.365972    3.476456   31.051047    17.365972    17.365972   \n",
              "3 1987-05-24  17.370141    3.091371   29.915178    17.370141    17.370141   \n",
              "4 1987-05-25  17.374310    3.118478   30.479866    17.374310    17.374310   \n",
              "\n",
              "   additive_terms  additive_terms_lower  additive_terms_upper     daily  ...  \\\n",
              "0       -0.373333             -0.373333             -0.373333 -1.863738  ...   \n",
              "1       -0.553813             -0.553813             -0.553813 -1.863738  ...   \n",
              "2       -0.553110             -0.553110             -0.553110 -1.863738  ...   \n",
              "3       -0.493286             -0.493286             -0.493286 -1.863738  ...   \n",
              "4       -0.534811             -0.534811             -0.534811 -1.863738  ...   \n",
              "\n",
              "     weekly  weekly_lower  weekly_upper    yearly  yearly_lower  yearly_upper  \\\n",
              "0  0.112819      0.112819      0.112819  1.377586      1.377586      1.377586   \n",
              "1 -0.063565     -0.063565     -0.063565  1.373490      1.373490      1.373490   \n",
              "2 -0.051002     -0.051002     -0.051002  1.361631      1.361631      1.361631   \n",
              "3  0.028072      0.028072      0.028072  1.342380      1.342380      1.342380   \n",
              "4  0.012634      0.012634      0.012634  1.316293      1.316293      1.316293   \n",
              "\n",
              "   multiplicative_terms  multiplicative_terms_lower  \\\n",
              "0                   0.0                         0.0   \n",
              "1                   0.0                         0.0   \n",
              "2                   0.0                         0.0   \n",
              "3                   0.0                         0.0   \n",
              "4                   0.0                         0.0   \n",
              "\n",
              "   multiplicative_terms_upper       yhat  \n",
              "0                         0.0  16.984302  \n",
              "1                         0.0  16.807991  \n",
              "2                         0.0  16.812863  \n",
              "3                         0.0  16.876855  \n",
              "4                         0.0  16.839499  \n",
              "\n",
              "[5 rows x 22 columns]"
            ],
            "text/html": [
              "\n",
              "  <div id=\"df-16e71347-554d-4adf-87c3-1c09ff67077f\" class=\"colab-df-container\">\n",
              "    <div>\n",
              "<style scoped>\n",
              "    .dataframe tbody tr th:only-of-type {\n",
              "        vertical-align: middle;\n",
              "    }\n",
              "\n",
              "    .dataframe tbody tr th {\n",
              "        vertical-align: top;\n",
              "    }\n",
              "\n",
              "    .dataframe thead th {\n",
              "        text-align: right;\n",
              "    }\n",
              "</style>\n",
              "<table border=\"1\" class=\"dataframe\">\n",
              "  <thead>\n",
              "    <tr style=\"text-align: right;\">\n",
              "      <th></th>\n",
              "      <th>ds</th>\n",
              "      <th>trend</th>\n",
              "      <th>yhat_lower</th>\n",
              "      <th>yhat_upper</th>\n",
              "      <th>trend_lower</th>\n",
              "      <th>trend_upper</th>\n",
              "      <th>additive_terms</th>\n",
              "      <th>additive_terms_lower</th>\n",
              "      <th>additive_terms_upper</th>\n",
              "      <th>daily</th>\n",
              "      <th>...</th>\n",
              "      <th>weekly</th>\n",
              "      <th>weekly_lower</th>\n",
              "      <th>weekly_upper</th>\n",
              "      <th>yearly</th>\n",
              "      <th>yearly_lower</th>\n",
              "      <th>yearly_upper</th>\n",
              "      <th>multiplicative_terms</th>\n",
              "      <th>multiplicative_terms_lower</th>\n",
              "      <th>multiplicative_terms_upper</th>\n",
              "      <th>yhat</th>\n",
              "    </tr>\n",
              "  </thead>\n",
              "  <tbody>\n",
              "    <tr>\n",
              "      <th>0</th>\n",
              "      <td>1987-05-21</td>\n",
              "      <td>17.357635</td>\n",
              "      <td>2.322692</td>\n",
              "      <td>30.414458</td>\n",
              "      <td>17.357635</td>\n",
              "      <td>17.357635</td>\n",
              "      <td>-0.373333</td>\n",
              "      <td>-0.373333</td>\n",
              "      <td>-0.373333</td>\n",
              "      <td>-1.863738</td>\n",
              "      <td>...</td>\n",
              "      <td>0.112819</td>\n",
              "      <td>0.112819</td>\n",
              "      <td>0.112819</td>\n",
              "      <td>1.377586</td>\n",
              "      <td>1.377586</td>\n",
              "      <td>1.377586</td>\n",
              "      <td>0.0</td>\n",
              "      <td>0.0</td>\n",
              "      <td>0.0</td>\n",
              "      <td>16.984302</td>\n",
              "    </tr>\n",
              "    <tr>\n",
              "      <th>1</th>\n",
              "      <td>1987-05-22</td>\n",
              "      <td>17.361804</td>\n",
              "      <td>3.092079</td>\n",
              "      <td>29.990604</td>\n",
              "      <td>17.361804</td>\n",
              "      <td>17.361804</td>\n",
              "      <td>-0.553813</td>\n",
              "      <td>-0.553813</td>\n",
              "      <td>-0.553813</td>\n",
              "      <td>-1.863738</td>\n",
              "      <td>...</td>\n",
              "      <td>-0.063565</td>\n",
              "      <td>-0.063565</td>\n",
              "      <td>-0.063565</td>\n",
              "      <td>1.373490</td>\n",
              "      <td>1.373490</td>\n",
              "      <td>1.373490</td>\n",
              "      <td>0.0</td>\n",
              "      <td>0.0</td>\n",
              "      <td>0.0</td>\n",
              "      <td>16.807991</td>\n",
              "    </tr>\n",
              "    <tr>\n",
              "      <th>2</th>\n",
              "      <td>1987-05-23</td>\n",
              "      <td>17.365972</td>\n",
              "      <td>3.476456</td>\n",
              "      <td>31.051047</td>\n",
              "      <td>17.365972</td>\n",
              "      <td>17.365972</td>\n",
              "      <td>-0.553110</td>\n",
              "      <td>-0.553110</td>\n",
              "      <td>-0.553110</td>\n",
              "      <td>-1.863738</td>\n",
              "      <td>...</td>\n",
              "      <td>-0.051002</td>\n",
              "      <td>-0.051002</td>\n",
              "      <td>-0.051002</td>\n",
              "      <td>1.361631</td>\n",
              "      <td>1.361631</td>\n",
              "      <td>1.361631</td>\n",
              "      <td>0.0</td>\n",
              "      <td>0.0</td>\n",
              "      <td>0.0</td>\n",
              "      <td>16.812863</td>\n",
              "    </tr>\n",
              "    <tr>\n",
              "      <th>3</th>\n",
              "      <td>1987-05-24</td>\n",
              "      <td>17.370141</td>\n",
              "      <td>3.091371</td>\n",
              "      <td>29.915178</td>\n",
              "      <td>17.370141</td>\n",
              "      <td>17.370141</td>\n",
              "      <td>-0.493286</td>\n",
              "      <td>-0.493286</td>\n",
              "      <td>-0.493286</td>\n",
              "      <td>-1.863738</td>\n",
              "      <td>...</td>\n",
              "      <td>0.028072</td>\n",
              "      <td>0.028072</td>\n",
              "      <td>0.028072</td>\n",
              "      <td>1.342380</td>\n",
              "      <td>1.342380</td>\n",
              "      <td>1.342380</td>\n",
              "      <td>0.0</td>\n",
              "      <td>0.0</td>\n",
              "      <td>0.0</td>\n",
              "      <td>16.876855</td>\n",
              "    </tr>\n",
              "    <tr>\n",
              "      <th>4</th>\n",
              "      <td>1987-05-25</td>\n",
              "      <td>17.374310</td>\n",
              "      <td>3.118478</td>\n",
              "      <td>30.479866</td>\n",
              "      <td>17.374310</td>\n",
              "      <td>17.374310</td>\n",
              "      <td>-0.534811</td>\n",
              "      <td>-0.534811</td>\n",
              "      <td>-0.534811</td>\n",
              "      <td>-1.863738</td>\n",
              "      <td>...</td>\n",
              "      <td>0.012634</td>\n",
              "      <td>0.012634</td>\n",
              "      <td>0.012634</td>\n",
              "      <td>1.316293</td>\n",
              "      <td>1.316293</td>\n",
              "      <td>1.316293</td>\n",
              "      <td>0.0</td>\n",
              "      <td>0.0</td>\n",
              "      <td>0.0</td>\n",
              "      <td>16.839499</td>\n",
              "    </tr>\n",
              "  </tbody>\n",
              "</table>\n",
              "<p>5 rows × 22 columns</p>\n",
              "</div>\n",
              "    <div class=\"colab-df-buttons\">\n",
              "\n",
              "  <div class=\"colab-df-container\">\n",
              "    <button class=\"colab-df-convert\" onclick=\"convertToInteractive('df-16e71347-554d-4adf-87c3-1c09ff67077f')\"\n",
              "            title=\"Convert this dataframe to an interactive table.\"\n",
              "            style=\"display:none;\">\n",
              "\n",
              "  <svg xmlns=\"http://www.w3.org/2000/svg\" height=\"24px\" viewBox=\"0 -960 960 960\">\n",
              "    <path d=\"M120-120v-720h720v720H120Zm60-500h600v-160H180v160Zm220 220h160v-160H400v160Zm0 220h160v-160H400v160ZM180-400h160v-160H180v160Zm440 0h160v-160H620v160ZM180-180h160v-160H180v160Zm440 0h160v-160H620v160Z\"/>\n",
              "  </svg>\n",
              "    </button>\n",
              "\n",
              "  <style>\n",
              "    .colab-df-container {\n",
              "      display:flex;\n",
              "      gap: 12px;\n",
              "    }\n",
              "\n",
              "    .colab-df-convert {\n",
              "      background-color: #E8F0FE;\n",
              "      border: none;\n",
              "      border-radius: 50%;\n",
              "      cursor: pointer;\n",
              "      display: none;\n",
              "      fill: #1967D2;\n",
              "      height: 32px;\n",
              "      padding: 0 0 0 0;\n",
              "      width: 32px;\n",
              "    }\n",
              "\n",
              "    .colab-df-convert:hover {\n",
              "      background-color: #E2EBFA;\n",
              "      box-shadow: 0px 1px 2px rgba(60, 64, 67, 0.3), 0px 1px 3px 1px rgba(60, 64, 67, 0.15);\n",
              "      fill: #174EA6;\n",
              "    }\n",
              "\n",
              "    .colab-df-buttons div {\n",
              "      margin-bottom: 4px;\n",
              "    }\n",
              "\n",
              "    [theme=dark] .colab-df-convert {\n",
              "      background-color: #3B4455;\n",
              "      fill: #D2E3FC;\n",
              "    }\n",
              "\n",
              "    [theme=dark] .colab-df-convert:hover {\n",
              "      background-color: #434B5C;\n",
              "      box-shadow: 0px 1px 3px 1px rgba(0, 0, 0, 0.15);\n",
              "      filter: drop-shadow(0px 1px 2px rgba(0, 0, 0, 0.3));\n",
              "      fill: #FFFFFF;\n",
              "    }\n",
              "  </style>\n",
              "\n",
              "    <script>\n",
              "      const buttonEl =\n",
              "        document.querySelector('#df-16e71347-554d-4adf-87c3-1c09ff67077f button.colab-df-convert');\n",
              "      buttonEl.style.display =\n",
              "        google.colab.kernel.accessAllowed ? 'block' : 'none';\n",
              "\n",
              "      async function convertToInteractive(key) {\n",
              "        const element = document.querySelector('#df-16e71347-554d-4adf-87c3-1c09ff67077f');\n",
              "        const dataTable =\n",
              "          await google.colab.kernel.invokeFunction('convertToInteractive',\n",
              "                                                    [key], {});\n",
              "        if (!dataTable) return;\n",
              "\n",
              "        const docLinkHtml = 'Like what you see? Visit the ' +\n",
              "          '<a target=\"_blank\" href=https://colab.research.google.com/notebooks/data_table.ipynb>data table notebook</a>'\n",
              "          + ' to learn more about interactive tables.';\n",
              "        element.innerHTML = '';\n",
              "        dataTable['output_type'] = 'display_data';\n",
              "        await google.colab.output.renderOutput(dataTable, element);\n",
              "        const docLink = document.createElement('div');\n",
              "        docLink.innerHTML = docLinkHtml;\n",
              "        element.appendChild(docLink);\n",
              "      }\n",
              "    </script>\n",
              "  </div>\n",
              "\n",
              "\n",
              "<div id=\"df-1058a746-da76-4496-9e99-989c96eaf582\">\n",
              "  <button class=\"colab-df-quickchart\" onclick=\"quickchart('df-1058a746-da76-4496-9e99-989c96eaf582')\"\n",
              "            title=\"Suggest charts\"\n",
              "            style=\"display:none;\">\n",
              "\n",
              "<svg xmlns=\"http://www.w3.org/2000/svg\" height=\"24px\"viewBox=\"0 0 24 24\"\n",
              "     width=\"24px\">\n",
              "    <g>\n",
              "        <path d=\"M19 3H5c-1.1 0-2 .9-2 2v14c0 1.1.9 2 2 2h14c1.1 0 2-.9 2-2V5c0-1.1-.9-2-2-2zM9 17H7v-7h2v7zm4 0h-2V7h2v10zm4 0h-2v-4h2v4z\"/>\n",
              "    </g>\n",
              "</svg>\n",
              "  </button>\n",
              "\n",
              "<style>\n",
              "  .colab-df-quickchart {\n",
              "      --bg-color: #E8F0FE;\n",
              "      --fill-color: #1967D2;\n",
              "      --hover-bg-color: #E2EBFA;\n",
              "      --hover-fill-color: #174EA6;\n",
              "      --disabled-fill-color: #AAA;\n",
              "      --disabled-bg-color: #DDD;\n",
              "  }\n",
              "\n",
              "  [theme=dark] .colab-df-quickchart {\n",
              "      --bg-color: #3B4455;\n",
              "      --fill-color: #D2E3FC;\n",
              "      --hover-bg-color: #434B5C;\n",
              "      --hover-fill-color: #FFFFFF;\n",
              "      --disabled-bg-color: #3B4455;\n",
              "      --disabled-fill-color: #666;\n",
              "  }\n",
              "\n",
              "  .colab-df-quickchart {\n",
              "    background-color: var(--bg-color);\n",
              "    border: none;\n",
              "    border-radius: 50%;\n",
              "    cursor: pointer;\n",
              "    display: none;\n",
              "    fill: var(--fill-color);\n",
              "    height: 32px;\n",
              "    padding: 0;\n",
              "    width: 32px;\n",
              "  }\n",
              "\n",
              "  .colab-df-quickchart:hover {\n",
              "    background-color: var(--hover-bg-color);\n",
              "    box-shadow: 0 1px 2px rgba(60, 64, 67, 0.3), 0 1px 3px 1px rgba(60, 64, 67, 0.15);\n",
              "    fill: var(--button-hover-fill-color);\n",
              "  }\n",
              "\n",
              "  .colab-df-quickchart-complete:disabled,\n",
              "  .colab-df-quickchart-complete:disabled:hover {\n",
              "    background-color: var(--disabled-bg-color);\n",
              "    fill: var(--disabled-fill-color);\n",
              "    box-shadow: none;\n",
              "  }\n",
              "\n",
              "  .colab-df-spinner {\n",
              "    border: 2px solid var(--fill-color);\n",
              "    border-color: transparent;\n",
              "    border-bottom-color: var(--fill-color);\n",
              "    animation:\n",
              "      spin 1s steps(1) infinite;\n",
              "  }\n",
              "\n",
              "  @keyframes spin {\n",
              "    0% {\n",
              "      border-color: transparent;\n",
              "      border-bottom-color: var(--fill-color);\n",
              "      border-left-color: var(--fill-color);\n",
              "    }\n",
              "    20% {\n",
              "      border-color: transparent;\n",
              "      border-left-color: var(--fill-color);\n",
              "      border-top-color: var(--fill-color);\n",
              "    }\n",
              "    30% {\n",
              "      border-color: transparent;\n",
              "      border-left-color: var(--fill-color);\n",
              "      border-top-color: var(--fill-color);\n",
              "      border-right-color: var(--fill-color);\n",
              "    }\n",
              "    40% {\n",
              "      border-color: transparent;\n",
              "      border-right-color: var(--fill-color);\n",
              "      border-top-color: var(--fill-color);\n",
              "    }\n",
              "    60% {\n",
              "      border-color: transparent;\n",
              "      border-right-color: var(--fill-color);\n",
              "    }\n",
              "    80% {\n",
              "      border-color: transparent;\n",
              "      border-right-color: var(--fill-color);\n",
              "      border-bottom-color: var(--fill-color);\n",
              "    }\n",
              "    90% {\n",
              "      border-color: transparent;\n",
              "      border-bottom-color: var(--fill-color);\n",
              "    }\n",
              "  }\n",
              "</style>\n",
              "\n",
              "  <script>\n",
              "    async function quickchart(key) {\n",
              "      const quickchartButtonEl =\n",
              "        document.querySelector('#' + key + ' button');\n",
              "      quickchartButtonEl.disabled = true;  // To prevent multiple clicks.\n",
              "      quickchartButtonEl.classList.add('colab-df-spinner');\n",
              "      try {\n",
              "        const charts = await google.colab.kernel.invokeFunction(\n",
              "            'suggestCharts', [key], {});\n",
              "      } catch (error) {\n",
              "        console.error('Error during call to suggestCharts:', error);\n",
              "      }\n",
              "      quickchartButtonEl.classList.remove('colab-df-spinner');\n",
              "      quickchartButtonEl.classList.add('colab-df-quickchart-complete');\n",
              "    }\n",
              "    (() => {\n",
              "      let quickchartButtonEl =\n",
              "        document.querySelector('#df-1058a746-da76-4496-9e99-989c96eaf582 button');\n",
              "      quickchartButtonEl.style.display =\n",
              "        google.colab.kernel.accessAllowed ? 'block' : 'none';\n",
              "    })();\n",
              "  </script>\n",
              "</div>\n",
              "\n",
              "    </div>\n",
              "  </div>\n"
            ]
          },
          "metadata": {},
          "execution_count": 33
        }
      ]
    },
    {
      "cell_type": "code",
      "source": [
        "joblib.dump(modelo, 'modelo_prophet')"
      ],
      "metadata": {
        "id": "syAtCKKWP5d2",
        "outputId": "752abd70-b809-4cc6-c743-b1cc65bdd895",
        "colab": {
          "base_uri": "https://localhost:8080/"
        }
      },
      "execution_count": 25,
      "outputs": [
        {
          "output_type": "execute_result",
          "data": {
            "text/plain": [
              "['modelo_prophet']"
            ]
          },
          "metadata": {},
          "execution_count": 25
        }
      ]
    },
    {
      "cell_type": "code",
      "source": [
        "modelo.plot(previsao, figsize=(20,6));\n",
        "plt.plot(test_data['ds'], test_data['y'], '.r')"
      ],
      "metadata": {
        "id": "8TGiVxa4cN2E"
      },
      "execution_count": null,
      "outputs": []
    },
    {
      "cell_type": "code",
      "source": [
        "modelo.plot_components(previsao, figsize=(10,6));"
      ],
      "metadata": {
        "id": "O0kycGA5cdtq"
      },
      "execution_count": null,
      "outputs": []
    },
    {
      "cell_type": "markdown",
      "source": [
        "**Adicionando Changepoints no modelo**"
      ],
      "metadata": {
        "id": "PitoVyBvyIgI"
      }
    },
    {
      "cell_type": "code",
      "source": [
        "from prophet.plot import add_changepoints_to_plot\n",
        "\n",
        "modelo_changepoints = Prophet(n_changepoints=5)\n",
        "modelo_changepoints.fit(train_data)\n",
        "dataFramefuture = modelo_changepoints.make_future_dataframe(periods=30, freq='D')\n",
        "previsao_changepoints = modelo_changepoints.predict(dataFramefuture)\n",
        "previsao_changepoints.head()"
      ],
      "metadata": {
        "id": "c1d1bR5cckdu"
      },
      "execution_count": null,
      "outputs": []
    },
    {
      "cell_type": "code",
      "source": [
        "fig = modelo_changepoints.plot(previsao_changepoints, figsize=(20,6));\n",
        "a = add_changepoints_to_plot(fig.gca(), modelo_changepoints, previsao_changepoints)"
      ],
      "metadata": {
        "id": "IopZxWClcpCL"
      },
      "execution_count": null,
      "outputs": []
    },
    {
      "cell_type": "markdown",
      "source": [
        "**Testando a performance - MAPE**"
      ],
      "metadata": {
        "id": "LJrLQlXYh8Wu"
      }
    },
    {
      "cell_type": "code",
      "source": [
        "# Extrair as colunas relevantes dos DataFrames\n",
        "previsao_cols = ['ds', 'yhat']\n",
        "valores_reais_cols = ['ds', 'y']\n",
        "\n",
        "previsao = previsao[previsao_cols]\n",
        "valores_reais = train_data[valores_reais_cols]\n",
        "\n",
        "# Mesclar os DataFrames nas colunas 'ds' para comparar previsões e valores reais\n",
        "resultados = pd.merge(previsao, valores_reais, on='ds', how='inner')\n",
        "\n",
        "# Calcular o erro percentual absoluto para cada ponto de dados\n",
        "resultados['erro_percentual_absoluto'] = np.abs((resultados['y'] - resultados['yhat']) / resultados['y']) * 100\n",
        "\n",
        "# Calcular o MAPE\n",
        "mape = np.mean(resultados['erro_percentual_absoluto'])\n",
        "\n",
        "print(f\"MAPE: {mape:.2f}%\")"
      ],
      "metadata": {
        "id": "A2M0T-0UcuFK"
      },
      "execution_count": null,
      "outputs": []
    },
    {
      "cell_type": "markdown",
      "source": [
        "##Cross validation\n",
        "Para concluir o modelo do Prophet, tentei fazer a validação cruzada para testar dados que nunca foram vistos pelo modelo antes.\n",
        "\n",
        "Observe que no resultado da validação cruzada temos os valores de yhat, yhat_lower, yhat_upper e o ponto de corte. O objetivo da validação cruzada é medir o erro de predição, selecionando assim pontos de corte e para cada um desses pontos o modelo é ajustado utilizando dados apenas até aquele ponto de corte."
      ],
      "metadata": {
        "id": "ot2jl4_ffGS9"
      }
    },
    {
      "cell_type": "code",
      "source": [
        "from prophet.diagnostics import cross_validation\n",
        "\n",
        "df_cv = cross_validation(modelo, initial='730 days', period='180 days', horizon = '365 days')"
      ],
      "metadata": {
        "id": "ee8Z23WpfFqF"
      },
      "execution_count": null,
      "outputs": []
    },
    {
      "cell_type": "code",
      "source": [
        "df_cv.head()"
      ],
      "metadata": {
        "id": "lGDYpxL9fo42"
      },
      "execution_count": null,
      "outputs": []
    },
    {
      "cell_type": "code",
      "source": [
        "df_cv['cutoff'].unique()"
      ],
      "metadata": {
        "id": "bBAoCCfdfoqx"
      },
      "execution_count": null,
      "outputs": []
    },
    {
      "cell_type": "code",
      "source": [
        "from prophet.diagnostics import performance_metrics\n",
        "df_p = performance_metrics(df_cv)\n",
        "df_p"
      ],
      "metadata": {
        "id": "PyWNIkpIgDd8"
      },
      "execution_count": null,
      "outputs": []
    },
    {
      "cell_type": "markdown",
      "source": [
        "####**LSTM**"
      ],
      "metadata": {
        "id": "mhzqXFl3ddjS"
      }
    },
    {
      "cell_type": "code",
      "source": [
        "df3.head()"
      ],
      "metadata": {
        "id": "cy5QiNQ1gom_"
      },
      "execution_count": null,
      "outputs": []
    },
    {
      "cell_type": "code",
      "source": [
        "df3 = df3.reset_index(drop=False)"
      ],
      "metadata": {
        "id": "lcwaw9x6jWNw"
      },
      "execution_count": null,
      "outputs": []
    },
    {
      "cell_type": "code",
      "source": [
        "df3"
      ],
      "metadata": {
        "id": "RQCDCj66mlb4"
      },
      "execution_count": null,
      "outputs": []
    },
    {
      "cell_type": "code",
      "source": [
        "close_data = df3['Preço'].values\n",
        "close_data = close_data.reshape(-1,1) #transformar em array"
      ],
      "metadata": {
        "id": "Yl-Lt_hIbzhW"
      },
      "execution_count": null,
      "outputs": []
    },
    {
      "cell_type": "markdown",
      "source": [
        "**Normalizando os dados**"
      ],
      "metadata": {
        "id": "iB_bDU1Zi8bi"
      }
    },
    {
      "cell_type": "code",
      "source": [
        "scaler = MinMaxScaler(feature_range=(0, 1))\n",
        "scaler = scaler.fit(close_data)\n",
        "close_data = scaler.transform(close_data)"
      ],
      "metadata": {
        "id": "kAhN8MiVxYKb"
      },
      "execution_count": null,
      "outputs": []
    },
    {
      "cell_type": "markdown",
      "source": [
        "**Separação da base de treino e teste:**"
      ],
      "metadata": {
        "id": "ChPYP1etjI1-"
      }
    },
    {
      "cell_type": "code",
      "source": [
        "split_percent = 0.80\n",
        "split = int(split_percent*len(close_data))\n",
        "\n",
        "close_train = close_data[:split]\n",
        "close_test = close_data[split:]\n",
        "\n",
        "date_train = df3['Data'][:split]\n",
        "date_test = df3['Data'][split:]\n",
        "\n",
        "print(len(close_train))\n",
        "print(len(close_test))"
      ],
      "metadata": {
        "id": "C6LELgNMjHKm"
      },
      "execution_count": null,
      "outputs": []
    },
    {
      "cell_type": "code",
      "source": [
        "# Gerar sequências temporais para treinamento e teste em um modelo de aprendizado de máquina\n",
        "\n",
        "look_back = 10\n",
        "\n",
        "train_generator = TimeseriesGenerator(close_train, close_train, length=look_back, batch_size=20)\n",
        "test_generator = TimeseriesGenerator(close_test, close_test, length=look_back, batch_size=1)"
      ],
      "metadata": {
        "id": "raYBWBYujRl3"
      },
      "execution_count": null,
      "outputs": []
    },
    {
      "cell_type": "code",
      "source": [
        "from tensorflow.keras.metrics import MeanSquaredError\n",
        "\n",
        "np.random.seed(7)\n",
        "\n",
        "model = Sequential()\n",
        "model.add(LSTM(100, activation='relu', input_shape=(look_back,1)))\n",
        "model.add(Dense(1)),\n",
        "\n",
        "model.compile(optimizer='adam', loss='mse', metrics=[MeanSquaredError()])\n",
        "\n",
        "num_epochs = 20\n",
        "model.fit(train_generator, epochs=num_epochs, verbose=1)"
      ],
      "metadata": {
        "id": "86edaEjPjf6B"
      },
      "execution_count": null,
      "outputs": []
    },
    {
      "cell_type": "code",
      "source": [
        "# Avaliando o modelo nos dados de teste\n",
        "mse = model.evaluate(test_generator, verbose=1)\n",
        "print(\"Erro Quadrático Médio\", mse[0])"
      ],
      "metadata": {
        "id": "WeuRSsLljhht"
      },
      "execution_count": null,
      "outputs": []
    },
    {
      "cell_type": "code",
      "source": [
        "# 1. Fazer previsões usando o conjunto de teste\n",
        "test_predictions = model.predict(test_generator)\n",
        "\n",
        "# 2. Inverter qualquer transformação aplicada aos dados\n",
        "test_predictions_inv = scaler.inverse_transform(test_predictions.reshape(-1, 1))\n",
        "test_actuals_inv = scaler.inverse_transform(np.array(close_test).reshape(-1, 1))\n",
        "\n",
        "# Ajuste as dimensões\n",
        "test_actuals_inv = test_actuals_inv[:len(test_predictions_inv)]\n",
        "\n",
        "# Calcular o MAPE\n",
        "mape = np.mean(np.abs((test_actuals_inv - test_predictions_inv) / test_actuals_inv)) * 100\n",
        "\n",
        "# Imprimir o MAPE\n",
        "print(f'MAPE: {mape:.4f}')"
      ],
      "metadata": {
        "id": "bdxd6Eatj8ff"
      },
      "execution_count": null,
      "outputs": []
    },
    {
      "cell_type": "code",
      "source": [
        "len(test_predictions)"
      ],
      "metadata": {
        "id": "kjdIejAmq0fU"
      },
      "execution_count": null,
      "outputs": []
    },
    {
      "cell_type": "code",
      "source": [
        "len(date_test)"
      ],
      "metadata": {
        "id": "e38e11pvqfV_"
      },
      "execution_count": null,
      "outputs": []
    },
    {
      "cell_type": "code",
      "source": [
        "#O RMSE é a raiz quadrada do MSE (Mean Squared Error), que é a média dos quadrados das diferenças entre as previsões do modelo e os valores reais.\n",
        "rmse_value = np.sqrt(mse[0])\n",
        "\n",
        "print(\"RMSE:\", rmse_value)"
      ],
      "metadata": {
        "id": "A8LF46qXkB-H"
      },
      "execution_count": null,
      "outputs": []
    },
    {
      "cell_type": "markdown",
      "source": [
        "O RMSE fornece uma métrica de erro na mesma unidade que a variável alvo (nesse caso, o preço de fechamento). Portanto significa que, em média, as previsões do modelo estão desviando em torno de 0.013 unidades da variável de destino. Quanto menor o RMSE, melhor é o desempenho do modelo em termos de previsões de regressão."
      ],
      "metadata": {
        "id": "UO-zW_MVkIxv"
      }
    },
    {
      "cell_type": "code",
      "source": [
        "prediction = model.predict(test_generator)\n",
        "\n",
        "close_train = close_train.reshape((-1))\n",
        "close_test = close_test.reshape((-1))\n",
        "prediction = prediction.reshape((-1))\n",
        "\n",
        "trace1 = go.Scatter(\n",
        "    x = date_train,\n",
        "    y = close_train,\n",
        "    mode = 'lines',\n",
        "    name = 'Data'\n",
        ")\n",
        "trace2 = go.Scatter(\n",
        "    x = date_test,\n",
        "    y = prediction,\n",
        "    mode = 'lines',\n",
        "    name = 'Prediction'\n",
        ")\n",
        "trace3 = go.Scatter(\n",
        "    x = date_test,\n",
        "    y = close_test,\n",
        "    mode='lines',\n",
        "    name = 'Ground Truth'\n",
        ")\n",
        "layout = go.Layout(\n",
        "    title = \"Predições do Preço do Barril\",\n",
        "    xaxis = {'title' : \"Data\"},\n",
        "    yaxis = {'title' : \"Preço\"}\n",
        ")\n",
        "fig = go.Figure(data=[trace1, trace2, trace3], layout=layout)\n",
        "fig.show()"
      ],
      "metadata": {
        "id": "riQs0u1ekFpp"
      },
      "execution_count": null,
      "outputs": []
    },
    {
      "cell_type": "markdown",
      "source": [
        "###**Validando com suavização da série temporal**"
      ],
      "metadata": {
        "id": "Hx2BRcpslDoR"
      }
    },
    {
      "cell_type": "code",
      "source": [
        "# Suazivando a série temporal\n",
        "# Aplicando suavização exponencial\n",
        "alpha = 0.09   # Fator de suavização\n",
        "# O parâmetro alpha na suavização exponencial controla a taxa de decaimento dos pesos atribuídos às observações passadas.\n",
        "# Determina o quão rapidamente o impacto das observações antigas diminui à medida que você avança no tempo.\n",
        "\n",
        "df3['Smoothed_Close'] = df3['Preço'].ewm(alpha=alpha, adjust=False).mean()\n",
        "\n",
        "# Visualizando os resultados\n",
        "plt.figure(figsize=(12, 6))\n",
        "plt.plot(df3.index, df3['Preço'], label='Original', color='blue')\n",
        "plt.plot(df3.index, df3['Smoothed_Close'], label=f'Suavizado (alpha={alpha})', color='red')\n",
        "plt.title('Série Temporal Suavizada usando Suavização Exponencial')\n",
        "plt.xlabel('Data')\n",
        "plt.ylabel('Preço')\n",
        "plt.legend()\n",
        "plt.show()"
      ],
      "metadata": {
        "id": "jEsBmmDzlL2u"
      },
      "execution_count": null,
      "outputs": []
    },
    {
      "cell_type": "code",
      "source": [
        "# Teste de estacionariedade (ADF Test)\n",
        "adf_result = adfuller(df3['Smoothed_Close'] )\n",
        "print(f'ADF Statistic: {adf_result[0]}')\n",
        "print(f'p-value: {adf_result[1]}')\n",
        "print('Resultados do Teste de Estacionariedade:')\n",
        "print('--------------------------------------')\n",
        "print('Teste Estatístico:', adf_result[0])\n",
        "print('Valor-p:', adf_result[1])\n",
        "print('Valores Críticos:')\n",
        "for key, value in adf_result[4].items():\n",
        "    print(f'   {key}: {value}')"
      ],
      "metadata": {
        "id": "-h3h7iAklVYQ"
      },
      "execution_count": null,
      "outputs": []
    },
    {
      "cell_type": "code",
      "source": [
        "df3.drop(columns=['Preço'], inplace=True)\n",
        "df3.head()"
      ],
      "metadata": {
        "id": "AJL9W4QxlmbE"
      },
      "execution_count": null,
      "outputs": []
    },
    {
      "cell_type": "code",
      "source": [
        "close_data = df3['Smoothed_Close'].values\n",
        "close_data = close_data.reshape(-1,1) #transformar em array\n",
        "\n",
        "scaler = MinMaxScaler(feature_range=(0, 1))\n",
        "scaler = scaler.fit(close_data)\n",
        "close_data = scaler.transform(close_data)"
      ],
      "metadata": {
        "id": "ImWr0fy0lscj"
      },
      "execution_count": null,
      "outputs": []
    },
    {
      "cell_type": "code",
      "source": [
        "close_data"
      ],
      "metadata": {
        "id": "daWNAoz6l3c6"
      },
      "execution_count": null,
      "outputs": []
    },
    {
      "cell_type": "code",
      "source": [
        "split_percent = 0.80\n",
        "split = int(split_percent*len(close_data))\n",
        "\n",
        "close_train = close_data[:split]\n",
        "close_test = close_data[split:]\n",
        "\n",
        "date_train = df3['Data'][:split]\n",
        "date_test = df3['Data'][split:]\n",
        "\n",
        "print(len(close_train))\n",
        "print(len(close_test))"
      ],
      "metadata": {
        "id": "sy-FofP9l5CF"
      },
      "execution_count": null,
      "outputs": []
    },
    {
      "cell_type": "code",
      "source": [
        "# Gerar sequências temporais para treinamento e teste em um modelo de aprendizado de máquina\n",
        "\n",
        "look_back = 5\n",
        "\n",
        "train_generator = TimeseriesGenerator(close_train, close_train, length=look_back, batch_size=20)\n",
        "test_generator = TimeseriesGenerator(close_test, close_test, length=look_back, batch_size=1)"
      ],
      "metadata": {
        "id": "Qr8rOv7Vl79Y"
      },
      "execution_count": null,
      "outputs": []
    },
    {
      "cell_type": "code",
      "source": [
        "np.random.seed(7)\n",
        "\n",
        "model = Sequential()\n",
        "model.add(LSTM(100, activation='relu', input_shape=(look_back,1)))\n",
        "model.add(Dense(1)),\n",
        "\n",
        "optimizer = Adam(learning_rate=0.001)\n",
        "model.compile(optimizer=optimizer, loss='mse', metrics=[MeanSquaredError()])\n",
        "\n",
        "num_epochs = 100\n",
        "model.fit(train_generator, epochs=num_epochs, verbose=1)"
      ],
      "metadata": {
        "id": "GlvcCzmOmC68"
      },
      "execution_count": null,
      "outputs": []
    },
    {
      "cell_type": "code",
      "source": [
        "# 1. Fazer previsões usando o conjunto de teste\n",
        "test_predictions = model.predict(test_generator)\n",
        "\n",
        "# 2. Inverter qualquer transformação aplicada aos dados\n",
        "test_predictions_inv = scaler.inverse_transform(test_predictions.reshape(-1, 1))\n",
        "test_actuals_inv = scaler.inverse_transform(np.array(close_test).reshape(-1, 1))\n",
        "\n",
        "# Ajuste as dimensões\n",
        "test_actuals_inv = test_actuals_inv[:len(test_predictions_inv)]\n",
        "\n",
        "# Calcular o MAPE\n",
        "mape = np.mean(np.abs((test_actuals_inv - test_predictions_inv) / test_actuals_inv)) * 100\n",
        "\n",
        "# Imprimir o MAPE\n",
        "print(f\"MAPE: {mape:.2f}%\")"
      ],
      "metadata": {
        "id": "YuBHlpHpmFY8"
      },
      "execution_count": null,
      "outputs": []
    },
    {
      "cell_type": "code",
      "source": [
        "test_actuals_inv"
      ],
      "metadata": {
        "id": "x5LhTm75prGb"
      },
      "execution_count": null,
      "outputs": []
    },
    {
      "cell_type": "code",
      "source": [
        "# Avaliando o modelo nos dados de teste\n",
        "mse = model.evaluate(test_generator, verbose=1)\n",
        "print(\"Erro Quadrático Médio:\", mse[0])"
      ],
      "metadata": {
        "id": "Hu4ll3Wanwfe"
      },
      "execution_count": null,
      "outputs": []
    },
    {
      "cell_type": "code",
      "source": [
        "# O RMSE é a raiz quadrada do MSE (Mean Squared Error), que é a média dos quadrados das diferenças entre as previsões do modelo e os valores reais.\n",
        "rmse_value = np.sqrt(mse[0])\n",
        "\n",
        "print(\"RMSE:\", rmse_value)"
      ],
      "metadata": {
        "id": "Lslqn8Asn1SH"
      },
      "execution_count": null,
      "outputs": []
    },
    {
      "cell_type": "code",
      "source": [
        "import joblib"
      ],
      "metadata": {
        "id": "tD_45sQFZPOG"
      },
      "execution_count": null,
      "outputs": []
    },
    {
      "cell_type": "markdown",
      "source": [
        "###Salvando o modelo LSMT"
      ],
      "metadata": {
        "id": "Ea6PdzUrcJLd"
      }
    },
    {
      "cell_type": "code",
      "source": [
        "joblib.dump(model, 'modelo_lsmt')"
      ],
      "metadata": {
        "id": "Zn8Q08g1br3f"
      },
      "execution_count": null,
      "outputs": []
    },
    {
      "cell_type": "markdown",
      "source": [
        "Plotando os resultados! 📈"
      ],
      "metadata": {
        "id": "FcSXZwTwn_bD"
      }
    },
    {
      "cell_type": "code",
      "source": [
        "prediction = model.predict(test_generator)\n",
        "\n",
        "close_train = close_train.reshape((-1))\n",
        "close_test = close_test.reshape((-1))\n",
        "prediction = prediction.reshape((-1))\n",
        "\n",
        "trace1 = go.Scatter(\n",
        "    x = date_train,\n",
        "    y = close_train,\n",
        "    mode = 'lines',\n",
        "    name = 'Data'\n",
        ")\n",
        "trace2 = go.Scatter(\n",
        "    x = date_test,\n",
        "    y = prediction,\n",
        "    mode = 'lines',\n",
        "    name = 'Prediction'\n",
        ")\n",
        "trace3 = go.Scatter(\n",
        "    x = date_test,\n",
        "    y = close_test,\n",
        "    mode='lines',\n",
        "    name = 'Ground Truth'\n",
        ")\n",
        "layout = go.Layout(\n",
        "    title = \"Predições do Preço do barril de Petróleo\",\n",
        "    xaxis = {'title' : \"Data\"},\n",
        "    yaxis = {'title' : \"Fechamento\"}\n",
        ")\n",
        "fig = go.Figure(data=[trace1, trace2, trace3], layout=layout)\n",
        "fig.show()"
      ],
      "metadata": {
        "id": "wgsPrz_Xn8T0"
      },
      "execution_count": null,
      "outputs": []
    },
    {
      "cell_type": "markdown",
      "source": [
        "##**Realizando o Forecasting**"
      ],
      "metadata": {
        "id": "gl8ClUy-oO5E"
      }
    },
    {
      "cell_type": "markdown",
      "source": [
        "Agora chegou o momento de prever o futuro!\n",
        "\n",
        "Vamos criar uma função para prever o futuro, vamos passar como parametro um número X de dias e a ideia dessa função é excutar o predict do modelo para nos retornar os dias futuros."
      ],
      "metadata": {
        "id": "DSfQuAz1oTD-"
      }
    },
    {
      "cell_type": "code",
      "source": [
        "model.save('BiLstm_model.h5')"
      ],
      "metadata": {
        "id": "4TBJArY1-W4j"
      },
      "execution_count": null,
      "outputs": []
    },
    {
      "cell_type": "code",
      "source": [
        "from tensorflow.keras.models import load_model\n",
        "lstm_model = load_model('BiLstm_model.h5')"
      ],
      "metadata": {
        "id": "IHEw7o6O-ahT"
      },
      "execution_count": null,
      "outputs": []
    },
    {
      "cell_type": "code",
      "source": [
        "close_data"
      ],
      "metadata": {
        "id": "Z0oma2RKABez"
      },
      "execution_count": null,
      "outputs": []
    },
    {
      "cell_type": "code",
      "source": [
        "close_data = close_data.reshape((-1))\n",
        "\n",
        "# Função para prever os próximos 'num_prediction' pontos da série temporal\n",
        "# Utiliza o modelo treinado para prever cada ponto sequencialmente\n",
        "# A cada iteração, adiciona a previsão à lista 'prediction_list'\n",
        "\n",
        "def predict(num_prediction, model):\n",
        "    prediction_list = close_data[-look_back:]\n",
        "\n",
        "    for _ in range(num_prediction):\n",
        "        x = prediction_list[-look_back:]\n",
        "        x = x.reshape((1, look_back, 1))\n",
        "        out = model.predict(x)[0][0]\n",
        "        prediction_list = np.append(prediction_list, out)\n",
        "    prediction_list = prediction_list[look_back-1:]\n",
        "\n",
        "    return prediction_list\n",
        "\n",
        "# Função para gerar as datas dos próximos 'num_prediction' dias\n",
        "# Assume que o DataFrame 'df' possui uma coluna 'Date' contendo as datas\n",
        "\n",
        "def predict_dates(num_prediction):\n",
        "    last_date = df3['Data'].values[-1]\n",
        "    prediction_dates = pd.date_range(last_date, periods=num_prediction+1).tolist()\n",
        "    return prediction_dates\n",
        "\n",
        "num_prediction = 15 #definição dos próximos dias\n",
        "forecast = predict(num_prediction, lstm_model) #resultado de novos dias\n",
        "forecast_dates = predict_dates(num_prediction)"
      ],
      "metadata": {
        "id": "dEtr8zM4oJgU"
      },
      "execution_count": null,
      "outputs": []
    },
    {
      "cell_type": "code",
      "source": [
        "forecast = forecast.reshape(-1, 1) #reshape para array\n",
        "forecast = scaler.inverse_transform(forecast)\n",
        "forecast"
      ],
      "metadata": {
        "id": "B6taC68G7Uz8"
      },
      "execution_count": null,
      "outputs": []
    },
    {
      "cell_type": "code",
      "source": [
        "%%sh\n",
        "python --version\n"
      ],
      "metadata": {
        "id": "a51ZDfsZ8QAo"
      },
      "execution_count": null,
      "outputs": []
    },
    {
      "cell_type": "code",
      "source": [
        "df = pd.read_csv(\"brent_limpo.csv\")[['Data', 'Preço']].rename(columns={\"Data\":\"ds\", \"Preço\":\"y\"})\n",
        "df['ds'] = pd.to_datetime(df['ds'], format='%Y-%m-%d')\n",
        "df.set_index('ds', inplace=True )\n",
        "df = df.asfreq('D').fillna(method='bfill')\n",
        "df = df.reset_index(drop=False)\n",
        "\n",
        "alpha = 0.09\n",
        "df['Smoothed_Close'] = df['y'].ewm(alpha=alpha, adjust=False).mean()\n",
        "\n",
        "df"
      ],
      "metadata": {
        "id": "P5NFUxQAAJKS"
      },
      "execution_count": null,
      "outputs": []
    },
    {
      "cell_type": "code",
      "source": [
        "import pandas as pd\n",
        "\n",
        "import numpy as np\n",
        "\n",
        "import joblib\n",
        "\n",
        "# Para machine learning\n",
        "from sklearn.preprocessing import MinMaxScaler\n",
        "from sklearn.metrics import mean_squared_error\n",
        "from sklearn.model_selection import train_test_split\n",
        "\n",
        "df = pd.read_csv(\"brent_limpo.csv\")\n",
        "# model = joblib.load('../models/modelo_lsmt.joblib')\n",
        "from tensorflow.keras.models import load_model\n",
        "model = load_model('BiLstm_model.h5')\n",
        "\n",
        "df.set_index('Data', inplace=True )\n",
        "df = df.asfreq('D').fillna(method='bfill')\n",
        "df = df.reset_index(drop=False)\n",
        "\n",
        "# close_data = df['Preço'].values\n",
        "# close_data = close_data.reshape(-1,1) #transformar em array\n",
        "\n",
        "alpha = 0.09\n",
        "df['Smoothed_Close'] = df['Preço'].ewm(alpha=alpha, adjust=False).mean()\n",
        "\n",
        "close_data = df['Smoothed_Close'].values\n",
        "close_data = close_data.reshape(-1,1) #transformar em array\n",
        "\n",
        "scaler = MinMaxScaler(feature_range=(0, 1))\n",
        "scaler = scaler.fit(close_data)\n",
        "close_data = scaler.transform(close_data)\n",
        "\n",
        "close_data = close_data.reshape((-1))\n",
        "\n",
        "look_back = 5\n",
        "\n",
        "def predict(num_prediction, model):\n",
        "    prediction_list = close_data[-look_back:]\n",
        "\n",
        "    for _ in range(num_prediction):\n",
        "        x = prediction_list[-look_back:]\n",
        "        x = x.reshape((1, look_back, 1))\n",
        "        out = model.predict(x)[0][0]\n",
        "        prediction_list = np.append(prediction_list, out)\n",
        "    prediction_list = prediction_list[look_back-1:]\n",
        "\n",
        "    return prediction_list\n",
        "\n",
        "# Função para gerar as datas dos próximos 'num_prediction' dias\n",
        "# Assume que o DataFrame 'df' possui uma coluna 'Date' contendo as datas\n",
        "\n",
        "def predict_dates(num_prediction):\n",
        "    last_date = df['Data'].values[-1]\n",
        "    prediction_dates = pd.date_range(last_date, periods=num_prediction+1).tolist()\n",
        "    return prediction_dates\n",
        "\n",
        "num_prediction = 15 #definição dos próximos dias\n",
        "forecast = predict(num_prediction, model) #resultado de novos dias\n",
        "forecast_dates = predict_dates(num_prediction)\n",
        "\n",
        "print(forecast)"
      ],
      "metadata": {
        "id": "tFZTCGGG_l8G"
      },
      "execution_count": null,
      "outputs": []
    },
    {
      "cell_type": "code",
      "source": [
        "forecast_dates"
      ],
      "metadata": {
        "id": "GP_pu4wl7dk7"
      },
      "execution_count": null,
      "outputs": []
    },
    {
      "cell_type": "code",
      "source": [
        "trace1 = go.Scatter(\n",
        "    x = date_test,\n",
        "    y = close_test,\n",
        "    mode = 'lines',\n",
        "    name = 'Data'\n",
        ")\n",
        "trace2 = go.Scatter(\n",
        "    x = forecast_dates,\n",
        "    y = forecast,\n",
        "    mode = 'lines',\n",
        "    name = 'Prediction'\n",
        ")\n",
        "layout = go.Layout(\n",
        "    title = \"Forecast preço do barril\",\n",
        "    xaxis = {'title' : \"Data\"},\n",
        "    yaxis = {'title' : \"Fechamento\"}\n",
        ")\n",
        "fig = go.Figure(data=[trace1, trace2], layout=layout)\n",
        "fig.show()"
      ],
      "metadata": {
        "id": "MlHj0BHIoekC"
      },
      "execution_count": null,
      "outputs": []
    },
    {
      "cell_type": "markdown",
      "source": [
        "###**Organizando os dados em um dataframe**"
      ],
      "metadata": {
        "id": "NCyjHsTkoovo"
      }
    },
    {
      "cell_type": "code",
      "source": [
        "df = pd.DataFrame(df3)\n",
        "df_past = df3[['Data','Smoothed_Close']]\n",
        "df_past.rename(columns={'Smoothed_Close': 'Actual'}, inplace=True)         #criando nome das colunas\n",
        "df_past['Data'] = pd.to_datetime(df_past['Data'])                          #configurando para datatime\n",
        "df_past['Forecast'] = np.nan                                               #Preenchendo com NAs\n",
        "df_past['Forecast'].iloc[-1] = df_past['Actual'].iloc[-1]\n",
        "df_past.head(3)"
      ],
      "metadata": {
        "id": "8SlqqCK4ohee"
      },
      "execution_count": null,
      "outputs": []
    },
    {
      "cell_type": "code",
      "source": [
        "# Faz a transformação inversa das predições\n",
        "forecast = forecast.reshape(-1, 1) #reshape para array\n",
        "forecast = scaler.inverse_transform(forecast)"
      ],
      "metadata": {
        "id": "10As716gpHmB"
      },
      "execution_count": null,
      "outputs": []
    },
    {
      "cell_type": "code",
      "source": [],
      "metadata": {
        "id": "rmpzWtuipmOv"
      },
      "execution_count": null,
      "outputs": []
    },
    {
      "cell_type": "code",
      "source": [
        "df_future.shape"
      ],
      "metadata": {
        "id": "D6bytHpfxBrq"
      },
      "execution_count": null,
      "outputs": []
    },
    {
      "cell_type": "code",
      "source": [
        "df_future = pd.DataFrame(columns=['Date', 'Actual', 'Forecast'])\n",
        "df_future['Date'] = forecast_dates\n",
        "df_future['Forecast'] = forecast.flatten()\n",
        "df_future['Actual'] = np.nan\n",
        "df_future.head()"
      ],
      "metadata": {
        "id": "dTgE9y8epN70"
      },
      "execution_count": null,
      "outputs": []
    },
    {
      "cell_type": "code",
      "source": [
        "df_future"
      ],
      "metadata": {
        "id": "V5KCCHaEw2xU"
      },
      "execution_count": null,
      "outputs": []
    },
    {
      "cell_type": "code",
      "source": [
        "# Concatenando os DataFrames usando concat\n",
        "frames = [df_past, df_future]\n",
        "results = pd.concat(frames, ignore_index=True).set_index('Data')\n",
        "results.head()"
      ],
      "metadata": {
        "id": "j2sg00EspP2p"
      },
      "execution_count": null,
      "outputs": []
    },
    {
      "cell_type": "code",
      "source": [
        "results2023 =  results.loc['2023-01-01':]"
      ],
      "metadata": {
        "id": "iXU_6budxVTz"
      },
      "execution_count": null,
      "outputs": []
    },
    {
      "cell_type": "code",
      "source": [
        "plot_data = [\n",
        "    go.Scatter(\n",
        "        x=results2023.index,\n",
        "        y=results2023['Actual'],\n",
        "        name='actual'\n",
        "    ),\n",
        "    go.Scatter(\n",
        "        x=results2023.index,\n",
        "        y=results2023['Forecast'],\n",
        "        name='prediction'\n",
        "    )\n",
        "]\n",
        "\n",
        "plot_layout = go.Layout(\n",
        "        title='Forecast barril'\n",
        "    )\n",
        "fig = go.Figure(data=plot_data, layout=plot_layout)\n",
        "\n",
        "fig.show()\n",
        "\n",
        "import plotly as ply\n",
        "ply.offline.plot(fig)"
      ],
      "metadata": {
        "id": "OEtWcE35wr1O"
      },
      "execution_count": null,
      "outputs": []
    },
    {
      "cell_type": "code",
      "source": [],
      "metadata": {
        "id": "f9RRz1YxxRa2"
      },
      "execution_count": null,
      "outputs": []
    }
  ]
}